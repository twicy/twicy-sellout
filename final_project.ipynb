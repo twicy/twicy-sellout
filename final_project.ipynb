{
  "nbformat": 4,
  "nbformat_minor": 0,
  "metadata": {
    "colab": {
      "name": "Untitled0.ipynb",
      "provenance": [],
      "collapsed_sections": []
    },
    "kernelspec": {
      "name": "python3",
      "display_name": "Python 3"
    },
    "accelerator": "GPU"
  },
  "cells": [
    {
      "cell_type": "code",
      "metadata": {
        "id": "CXpAGgv1XpoC",
        "colab": {
          "base_uri": "https://localhost:8080/"
        },
        "outputId": "1a2aa28b-b979-4df0-a049-80495ed01d1f"
      },
      "source": [
        "import pickle\r\n",
        "import numpy as np\r\n",
        "import matplotlib.pyplot as plt\r\n",
        "import os\r\n",
        "import copy\r\n",
        "from tqdm import tqdm\r\n",
        "\r\n",
        "import torch\r\n",
        "import torchvision\r\n",
        "from torchvision import datasets, models, transforms\r\n",
        "import torch.nn as nn\r\n",
        "import torch.optim as optim\r\n",
        "\r\n",
        "print(\"PyTorch Version: \",torch.__version__)\r\n",
        "print(\"Torchvision Version: \",torchvision.__version__)\r\n",
        "# Detect if we have a GPU available\r\n",
        "device = torch.device(\"cuda:0\" if torch.cuda.is_available() else \"cpu\")\r\n",
        "if torch.cuda.is_available():\r\n",
        "    print(\"Using the GPU!\")\r\n",
        "else:\r\n",
        "    print(\"WARNING: Could not find GPU! Using CPU only. If you want to enable GPU, please to go Edit > Notebook Settings > Hardware Accelerator and select GPU.\")\r\n",
        "data_dir = \"./data\""
      ],
      "execution_count": 15,
      "outputs": [
        {
          "output_type": "stream",
          "text": [
            "PyTorch Version:  1.7.0+cu101\n",
            "Torchvision Version:  0.8.1+cu101\n",
            "Using the GPU!\n"
          ],
          "name": "stdout"
        }
      ]
    },
    {
      "cell_type": "code",
      "metadata": {
        "id": "qVLInpQQbVMx"
      },
      "source": [
        "# !pip3 install face_recognition\r\n",
        "!unzip /content/data.zip"
      ],
      "execution_count": null,
      "outputs": []
    },
    {
      "cell_type": "code",
      "metadata": {
        "id": "vELvzrzTpk3U"
      },
      "source": [
        "def get_dataloaders(input_size, batch_size, shuffle = True):\n",
        "    '''\n",
        "    Build dataloaders with transformations. \n",
        "\n",
        "    Args:\n",
        "        input_size: int, the size of the tranformed images\n",
        "        batch_size: int, minibatch size for dataloading\n",
        "\n",
        "    Returns:\n",
        "        dataloader_dict: dict, dict with \"train\", \"val\", \"test\" keys, each is mapped to a pytorch dataloader.\n",
        "\n",
        "    '''\n",
        "\n",
        "    mean = [0.485, 0.456, 0.406]\n",
        "    std = [0.229, 0.224, 0.225]\n",
        "\n",
        "    #++++++++++++++++++++++++++++++++++++++++++++++#\n",
        "    #++++++++++++++++++++++++++++++++++++++++++++++#\n",
        "    # ============== YOUR CODE HERE ============== #  \n",
        "\n",
        "    # ========= Step 1: build transformations for the dataset ===========\n",
        "    # You need to construct build a data transformation that does three preprocessings in order:\n",
        "    # I.   Resize the image to input_size using transforms.Resize\n",
        "    # II.  Convert the image to PyTorch tensor using transforms.ToTensor\n",
        "    # III. Normalize the images with the provided mean and std parameters using transforms.Normalize. These parameters are accumulated from a large number of training samples.\n",
        "    # You can use transforms.Compose to combine the above three transformations. Store the combined transforms in variable 'composed_transform'.\n",
        "    composed_transform = transforms.Compose([transforms.Resize(input_size), transforms.ToTensor(), transforms.Normalize(mean, std)])\n",
        "\n",
        "    \n",
        "    # ============== END OF CODE ================= # \n",
        "    #++++++++++++++++++++++++++++++++++++++++++++++#\n",
        "    #++++++++++++++++++++++++++++++++++++++++++++++#\n",
        "\n",
        "    # We write the remaining part of the dataloader for you.  \n",
        "    # You are encouraged to go through this.\n",
        "\n",
        "    # ========= Step 2: We build dataloaders for the downloaded data ===========\n",
        "    # I.   We use torch.datasets.ImageFolder with the provided data_dir and the data transfomations you created in step 1 to contruct pytorch datasets for train/val/test \n",
        "    # II.  Then we use torch.utils.data.DataLoader to build dataloaders with the constructed pytorch datasets, you need to enable shuffling for training set. Set num_workers=2 to speed up dataloading.\n",
        "    # III. Finally, we put the dataloaders into a dictionary\n",
        "\n",
        "    # Create train/val/test datasets\n",
        "    data_transforms = {\n",
        "        'train': composed_transform,\n",
        "        'val': composed_transform,\n",
        "        'test': composed_transform\n",
        "    }\n",
        "    image_datasets = {x: datasets.ImageFolder(os.path.join(data_dir, x), data_transforms[x]) for x in data_transforms.keys()}\n",
        "\n",
        "    # Create training train/val/test dataloaders\n",
        "    # Never shuffle the val and test datasets\n",
        "    dataloaders_dict = {x: torch.utils.data.DataLoader(image_datasets[x], batch_size=batch_size, shuffle=False if x != 'train' else shuffle, num_workers=2) for x in data_transforms.keys()}\n",
        "    \n",
        "\n",
        "\n",
        "    return dataloaders_dict"
      ],
      "execution_count": 7,
      "outputs": []
    },
    {
      "cell_type": "code",
      "metadata": {
        "id": "XQ85VyUwKeju",
        "colab": {
          "base_uri": "https://localhost:8080/"
        },
        "outputId": "491cc873-d2e3-4c9a-ac53-e76483b5a8bb"
      },
      "source": [
        "batch_size = 16\n",
        "input_size = 128\n",
        "dataloaders_dict = get_dataloaders(input_size, batch_size)\n",
        "\n",
        "# Confirm your train/val/test sets contain 90,000/10,000/10,000 samples\n",
        "print('# of training samples {}'.format(len(dataloaders_dict['train'].dataset))) \n",
        "print('# of validation samples {}'.format(len(dataloaders_dict['val'].dataset)))  \n",
        "print('# of test samples {}'.format(len(dataloaders_dict['test'].dataset))) "
      ],
      "execution_count": 8,
      "outputs": [
        {
          "output_type": "stream",
          "text": [
            "# of training samples 200\n",
            "# of validation samples 400\n",
            "# of test samples 200\n"
          ],
          "name": "stdout"
        }
      ]
    },
    {
      "cell_type": "code",
      "metadata": {
        "id": "V6yXydgmnKjg"
      },
      "source": [
        "# Helper function for counting number of trainable parameters.\n",
        "def count_params(model):\n",
        "    '''\n",
        "    Counts the number of trainable parameters in PyTorch.\n",
        "\n",
        "    Args:\n",
        "        model: PyTorch model.\n",
        "\n",
        "    Returns:\n",
        "        num_params: int, number of trainable parameters.\n",
        "    '''\n",
        "\n",
        "    num_params = sum([item.numel() for item in model.parameters() if item.requires_grad])\n",
        "\n",
        "    return num_params"
      ],
      "execution_count": 9,
      "outputs": []
    },
    {
      "cell_type": "code",
      "metadata": {
        "id": "dVzbyGMQxW8c"
      },
      "source": [
        "# Network configurations for all layers before the final fully-connected layers. \n",
        "# \"M\" corresponds to maxpooling layer, integers correspond to number of output channels of a convolutional layer.\n",
        "cfgs = {\n",
        "    'MiniVGG': [64, 'M', 128, 'M', 128, 128, 'M'],\n",
        "    'MiniVGG-BN': [64, 'M', 128, 'M', 128, 128, 'M']\n",
        "}\n",
        "\n",
        "def make_layers(cfg, batch_norm=False):\n",
        "\n",
        "    '''\n",
        "    Return a nn.Sequential object containing all layers to get the features using the CNN.\n",
        "    (That is, before the Average pooling layer in the two pictures above). \n",
        "\n",
        "    Args:\n",
        "      cfg: list\n",
        "      batch_norm: bool, default: False. If set to True, a BatchNorm layer should be added after each convolutional layer.\n",
        "\n",
        "    Return:\n",
        "      features: torch.nn.Sequential. Containers for all feature extraction layers. For use of torch.nn.Sequential, please refer to PyTorch documents.\n",
        "    '''\n",
        "    #++++++++++++++++++++++++++++++++++++++++++++++#\n",
        "    #++++++++++++++++++++++++++++++++++++++++++++++#\n",
        "    # ============== YOUR CODE HERE ============== # \n",
        "    layers = []\n",
        "    temp = 3\n",
        "    for layer in cfg:\n",
        "      if layer == 'M':\n",
        "        layers += [nn.MaxPool2d(kernel_size=(2, 2), stride=(2, 2), padding = 0, dilation = 1, ceil_mode = False)]\n",
        "      else:\n",
        "        convolved = nn.Conv2d(temp, layer, kernel_size=(3, 3), stride = (1, 1), padding=(1, 1))\n",
        "        temp = layer\n",
        "        if batch_norm:\n",
        "          layers+=([convolved, nn.BatchNorm2d(temp), nn.ReLU(inplace=True)])\n",
        "        else:\n",
        "          layers+=([convolved, nn.ReLU(inplace=True)])\n",
        "    return nn.Sequential(*layers)\n",
        "\n",
        "    # ============== END OF CODE ================= # \n",
        "    #++++++++++++++++++++++++++++++++++++++++++++++#\n",
        "    #++++++++++++++++++++++++++++++++++++++++++++++#\n",
        "\n",
        "class VGG(nn.Module):\n",
        "\n",
        "    def __init__(self, features, num_classes=100, init_weights=True):\n",
        "        super(VGG, self).__init__()\n",
        "\n",
        "        self.features = features\n",
        "        self.avgpool = nn.AdaptiveAvgPool2d((5, 5))\n",
        "\n",
        "         \n",
        "        #++++++++++++++++++++++++++++++++++++++++++++++#\n",
        "        #++++++++++++++++++++++++++++++++++++++++++++++#\n",
        "        # ============== YOUR CODE HERE ============== #\n",
        "        # Construct the final FC layers using nn.Sequential.\n",
        "        # NOTE: The avgpool layer has already been defined by us above.\n",
        "         \n",
        "        self.classifier = nn.Sequential(\n",
        "            nn.Linear(in_features = 3200,out_features = 512,bias= True),\n",
        "            nn.ReLU(True),\n",
        "            nn.Dropout(p=0.3, inplace = False),\n",
        "            nn.Linear(in_features = 512,out_features = 256,bias= True),\n",
        "            nn.ReLU(True),\n",
        "            nn.Dropout(p=0.3, inplace = False),\n",
        "            nn.Linear(in_features = 256,out_features = 100,bias= True),\n",
        "        )\n",
        "        \n",
        "        # ============== END OF CODE ================= # \n",
        "        #++++++++++++++++++++++++++++++++++++++++++++++#\n",
        "        #++++++++++++++++++++++++++++++++++++++++++++++#\n",
        "\n",
        "        if init_weights:\n",
        "            self._initialize_weights()\n",
        "\n",
        "    def forward(self, x): \n",
        "        x = self.features(x)\n",
        "        x = self.avgpool(x)\n",
        "        x = torch.flatten(x, 1)\n",
        "        x = self.classifier(x)\n",
        "        return x\n",
        "\n",
        "    def _initialize_weights(self):\n",
        "        for m in self.modules():\n",
        "            if isinstance(m, nn.Conv2d):\n",
        "                nn.init.kaiming_normal_(m.weight, mode='fan_out', nonlinearity='relu')\n",
        "                if m.bias is not None:\n",
        "                    nn.init.constant_(m.bias, 0)\n",
        "            elif isinstance(m, nn.BatchNorm2d):\n",
        "                nn.init.constant_(m.weight, 1)\n",
        "                nn.init.constant_(m.bias, 0)\n",
        "            elif isinstance(m, nn.Linear):\n",
        "                nn.init.normal_(m.weight, 0, 0.01)\n",
        "                nn.init.constant_(m.bias, 0)"
      ],
      "execution_count": 18,
      "outputs": []
    },
    {
      "cell_type": "code",
      "metadata": {
        "id": "-IBbv7mW0gFq",
        "colab": {
          "base_uri": "https://localhost:8080/"
        },
        "outputId": "367afdb6-fcf6-448b-e9bb-5935dd35da19"
      },
      "source": [
        "features = make_layers(cfgs['MiniVGG'], batch_norm=False)\n",
        "vgg = VGG(features)\n",
        "\n",
        "features = make_layers(cfgs['MiniVGG-BN'], batch_norm=True)\n",
        "vgg_bn = VGG(features)\n",
        "\n",
        "# Print the network architectrue. Please compare the printed architecture with the one given in the instruction above. \n",
        "# Make sure your network has the same architecture as the one we give above.\n",
        "print(vgg)\n",
        "print('Number of trainable parameters {}'.format(count_params(vgg)))\n",
        "\n",
        "print(vgg_bn)\n",
        "print('Number of trainable parameters {}'.format(count_params(vgg_bn)))"
      ],
      "execution_count": 19,
      "outputs": [
        {
          "output_type": "stream",
          "text": [
            "VGG(\n",
            "  (features): Sequential(\n",
            "    (0): Conv2d(3, 64, kernel_size=(3, 3), stride=(1, 1), padding=(1, 1))\n",
            "    (1): ReLU(inplace=True)\n",
            "    (2): MaxPool2d(kernel_size=(2, 2), stride=(2, 2), padding=0, dilation=1, ceil_mode=False)\n",
            "    (3): Conv2d(64, 128, kernel_size=(3, 3), stride=(1, 1), padding=(1, 1))\n",
            "    (4): ReLU(inplace=True)\n",
            "    (5): MaxPool2d(kernel_size=(2, 2), stride=(2, 2), padding=0, dilation=1, ceil_mode=False)\n",
            "    (6): Conv2d(128, 128, kernel_size=(3, 3), stride=(1, 1), padding=(1, 1))\n",
            "    (7): ReLU(inplace=True)\n",
            "    (8): Conv2d(128, 128, kernel_size=(3, 3), stride=(1, 1), padding=(1, 1))\n",
            "    (9): ReLU(inplace=True)\n",
            "    (10): MaxPool2d(kernel_size=(2, 2), stride=(2, 2), padding=0, dilation=1, ceil_mode=False)\n",
            "  )\n",
            "  (avgpool): AdaptiveAvgPool2d(output_size=(5, 5))\n",
            "  (classifier): Sequential(\n",
            "    (0): Linear(in_features=3200, out_features=512, bias=True)\n",
            "    (1): ReLU(inplace=True)\n",
            "    (2): Dropout(p=0.3, inplace=False)\n",
            "    (3): Linear(in_features=512, out_features=256, bias=True)\n",
            "    (4): ReLU(inplace=True)\n",
            "    (5): Dropout(p=0.3, inplace=False)\n",
            "    (6): Linear(in_features=256, out_features=100, bias=True)\n",
            "  )\n",
            ")\n",
            "Number of trainable parameters 2166756\n",
            "VGG(\n",
            "  (features): Sequential(\n",
            "    (0): Conv2d(3, 64, kernel_size=(3, 3), stride=(1, 1), padding=(1, 1))\n",
            "    (1): BatchNorm2d(64, eps=1e-05, momentum=0.1, affine=True, track_running_stats=True)\n",
            "    (2): ReLU(inplace=True)\n",
            "    (3): MaxPool2d(kernel_size=(2, 2), stride=(2, 2), padding=0, dilation=1, ceil_mode=False)\n",
            "    (4): Conv2d(64, 128, kernel_size=(3, 3), stride=(1, 1), padding=(1, 1))\n",
            "    (5): BatchNorm2d(128, eps=1e-05, momentum=0.1, affine=True, track_running_stats=True)\n",
            "    (6): ReLU(inplace=True)\n",
            "    (7): MaxPool2d(kernel_size=(2, 2), stride=(2, 2), padding=0, dilation=1, ceil_mode=False)\n",
            "    (8): Conv2d(128, 128, kernel_size=(3, 3), stride=(1, 1), padding=(1, 1))\n",
            "    (9): BatchNorm2d(128, eps=1e-05, momentum=0.1, affine=True, track_running_stats=True)\n",
            "    (10): ReLU(inplace=True)\n",
            "    (11): Conv2d(128, 128, kernel_size=(3, 3), stride=(1, 1), padding=(1, 1))\n",
            "    (12): BatchNorm2d(128, eps=1e-05, momentum=0.1, affine=True, track_running_stats=True)\n",
            "    (13): ReLU(inplace=True)\n",
            "    (14): MaxPool2d(kernel_size=(2, 2), stride=(2, 2), padding=0, dilation=1, ceil_mode=False)\n",
            "  )\n",
            "  (avgpool): AdaptiveAvgPool2d(output_size=(5, 5))\n",
            "  (classifier): Sequential(\n",
            "    (0): Linear(in_features=3200, out_features=512, bias=True)\n",
            "    (1): ReLU(inplace=True)\n",
            "    (2): Dropout(p=0.3, inplace=False)\n",
            "    (3): Linear(in_features=512, out_features=256, bias=True)\n",
            "    (4): ReLU(inplace=True)\n",
            "    (5): Dropout(p=0.3, inplace=False)\n",
            "    (6): Linear(in_features=256, out_features=100, bias=True)\n",
            "  )\n",
            ")\n",
            "Number of trainable parameters 2167652\n"
          ],
          "name": "stdout"
        }
      ]
    },
    {
      "cell_type": "code",
      "metadata": {
        "id": "mSAKSY96ZLZC"
      },
      "source": [
        "def make_optimizer(model):\r\n",
        "  '''Args:model: NN to trainReturns:optimizer: pytorch optmizer for updating the given model parameters.'''\r\n",
        "  #++++++++++++++++++++++++++++++++++++++++++++++#\r\n",
        "  #++++++++++++++++++++++++++++++++++++++++++++++#\r\n",
        "  # ============== YOUR CODE HERE ============== #\r\n",
        "  # Create a SGD optimizer with a learning rate 1e-2, momentum = 0.9\r\n",
        "  # HINT:\r\n",
        "  # We have imported torch.optim as optim for you\r\n",
        "  # Checkout optim.SGD() and initialize with appropriate parameters\r\n",
        "  params_to_update=model.parameters()\r\n",
        "  #optimizer = optim.Adam(params_to_update, lr=1e-3)\r\n",
        "  optimizer=optim.SGD(params_to_update, lr=1e-1, momentum=0.9)\r\n",
        "  # ============== END OF CODE ================= #\r\n",
        "  #++++++++++++++++++++++++++++++++++++++++++++++#\r\n",
        "  #++++++++++++++++++++++++++++++++++++++++++++++#\r\n",
        "  return optimizer\r\n",
        "\r\n",
        "def get_loss():\r\n",
        "  criterion=nn.CrossEntropyLoss()\r\n",
        "  return criterion"
      ],
      "execution_count": 27,
      "outputs": []
    },
    {
      "cell_type": "code",
      "metadata": {
        "id": "AYGmDsrzY4Ir"
      },
      "source": [
        "def train_model(model, dataloaders, criterion, optimizer, save_dir = None, num_epochs=25, model_name='MiniVGG'):\n",
        "    '''\n",
        "    Args:\n",
        "        model: The NN to train\n",
        "        dataloaders: A dictionary containing at least the keys \n",
        "                    'train','val' that maps to Pytorch data loaders for the dataset\n",
        "        criterion: The Loss function\n",
        "        optimizer: Pytroch optimizer. The algorithm to update weights \n",
        "        num_epochs: How many epochs to train for\n",
        "        save_dir: Where to save the best model weights that are found. Using None will not write anything to disk.\n",
        "\n",
        "    Returns:\n",
        "        model: The trained NN\n",
        "        tr_acc_history: list, training accuracy history. Recording freq: one epoch.\n",
        "        val_acc_history: list, validation accuracy history. Recording freq: one epoch.\n",
        "    '''\n",
        "\n",
        "    val_acc_history = []\n",
        "    tr_acc_history = []\n",
        "    \n",
        "    best_model_wts = copy.deepcopy(model.state_dict())\n",
        "    best_acc = 0.0\n",
        "\n",
        "    for epoch in range(num_epochs):\n",
        "        print('Epoch {}/{}'.format(epoch, num_epochs - 1))\n",
        "        print('-' * 10)\n",
        "\n",
        "        # Each epoch has a training and validation phase\n",
        "        for phase in ['train', 'val']:\n",
        "            if phase == 'train':\n",
        "                model.train()  # Set model to training mode\n",
        "            else:\n",
        "                model.eval()   # Set model to evaluate mode\n",
        "\n",
        "            # loss and number of correct prediction for the current batch\n",
        "            running_loss = 0.0\n",
        "            running_corrects = 0\n",
        "\n",
        "            # Iterate over data.\n",
        "            # TQDM has nice progress bars\n",
        "            for inputs, labels in tqdm(dataloaders[phase]):\n",
        "\n",
        "                inputs = inputs.to(device)\n",
        "                labels = labels.to(device)\n",
        "                \n",
        "                #++++++++++++++++++++++++++++++++++++++++++++++#\n",
        "                #++++++++++++++++++++++++++++++++++++++++++++++# \n",
        "                # ============== YOUR CODE HERE ============== #\n",
        "#def train_model(model, dataloaders, criterion, optimizer, save_dir = None, num_epochs=25, model_name='MiniVGG'):\n",
        "                optimizer.zero_grad()\n",
        "                \n",
        "                with torch.set_grad_enabled(phase=='train'):\n",
        "                  # Get model outputs and calculate loss\n",
        "                  outputs=model(inputs)\n",
        "                  loss=criterion(outputs, labels)\n",
        "                  # torch.max outputs the maximum value, and its index\n",
        "                  # Since the input is batched, we take the max along axis 1\n",
        "                  # (the meaningful outputs)\n",
        "                  _, preds=torch.max(outputs,1)\n",
        "                  # backprop + optimize only if in training phase\n",
        "                  if phase == 'train':\n",
        "                    loss.backward()\n",
        "                    optimizer.step()\n",
        "\n",
        "                # Please read all the inputs carefully!\n",
        "                # For \"train\" phase: \n",
        "                # (i)   Compute the outputs using model\n",
        "                #       Also, use outputs to calculate predicted class by model,\n",
        "                #       Store the predicted class in variable 'preds'\n",
        "                #       (Think argmax of outputs across a dimension)\n",
        "                #       torch.max() might help!\n",
        "                # (ii)  Calculate the loss using criterion. Store it as 'loss' \n",
        "                # (iii) Update the model parameters\n",
        "\n",
        "                # Don't forget to zero the gradients for each iteration!\n",
        "                \n",
        "                # For \"val\" phase, same as train but without backprop \n",
        "                # Compute the outputs (Same as \"train\", calculate 'preds' also), \n",
        "                # Calculate the loss, store it as 'loss'\n",
        "\n",
        "\n",
        "                # ============== END OF CODE ================= # \n",
        "                #++++++++++++++++++++++++++++++++++++++++++++++#\n",
        "                #++++++++++++++++++++++++++++++++++++++++++++++# \n",
        "\n",
        "                # statistics\n",
        "                running_loss += loss.item() * inputs.size(0)\n",
        "                running_corrects += torch.sum(preds == labels.data)\n",
        "\n",
        "            epoch_loss = running_loss / len(dataloaders[phase].dataset)\n",
        "            epoch_acc = running_corrects.double() / len(dataloaders[phase].dataset)\n",
        "\n",
        "            print('{} Loss: {:.4f} Acc: {:.4f}'.format(phase, epoch_loss, epoch_acc))\n",
        "\n",
        "            # deep copy the model\n",
        "            if phase == 'val' and epoch_acc > best_acc:\n",
        "                best_acc = epoch_acc\n",
        "                best_model_wts = copy.deepcopy(model.state_dict())\n",
        "\n",
        "                # save the best model weights\n",
        "                # ================================ IMPORTANT ===============================================\n",
        "                # Lossing connection to colab will lead to loss of trained weights.\n",
        "                # You can download the trained weights to your local machine. \n",
        "                # Later, you can load these weights directly without needing to train the neural networks again.\n",
        "                # ==========================================================================================\n",
        "                if save_dir:\n",
        "                    torch.save(best_model_wts, os.path.join(save_dir, model_name + '.pth'))\n",
        "\n",
        "            # record the train/val accuracies\n",
        "            if phase == 'val':\n",
        "                val_acc_history.append(epoch_acc)\n",
        "            else:\n",
        "                tr_acc_history.append(epoch_acc)\n",
        "                \n",
        "    print('Best val Acc: {:4f}'.format(best_acc))\n",
        "\n",
        "    return model, tr_acc_history, val_acc_history"
      ],
      "execution_count": 48,
      "outputs": []
    },
    {
      "cell_type": "code",
      "metadata": {
        "id": "fqEGeODmZJtM"
      },
      "source": [
        "# Number of classes in the dataset\n",
        "# Miniplaces has 100\n",
        "num_classes = 2\n",
        "\n",
        "# Batch size for training \n",
        "batch_size = 128\n",
        "\n",
        "# Shuffle the input data?\n",
        "shuffle_datasets = True\n",
        "\n",
        "# Number of epochs to train for\n",
        "# During debugging, you can set this parameter to 1\n",
        "# num_epochs = 1\n",
        "# Training for 20 epochs. This will take about half an hour.\n",
        "num_epochs = 20\n",
        "\n",
        "### IO\n",
        "# Directory to save weights to\n",
        "save_dir = \"weights\"\n",
        "os.makedirs(save_dir, exist_ok=True)\n",
        "\n",
        "# get dataloders and criterion function\n",
        "input_size = 64 # do not change this\n",
        "dataloaders = get_dataloaders(input_size, batch_size, shuffle_datasets)\n",
        "criterion = get_loss()"
      ],
      "execution_count": 49,
      "outputs": []
    },
    {
      "cell_type": "code",
      "metadata": {
        "id": "YCnO1JytyDBY",
        "colab": {
          "base_uri": "https://localhost:8080/"
        },
        "outputId": "5de770f6-ed93-4b6d-8edb-7009b484f47b"
      },
      "source": [
        "# Initialize MiniVGG-BN\n",
        "features = make_layers(cfgs['MiniVGG-BN'], batch_norm=True)\n",
        "model = VGG(features).to(device)\n",
        "optimizer = make_optimizer(model)\n",
        "\n",
        "# Train the model!\n",
        "vgg_BN, tr_his_BN, val_his_BN = train_model(model=model, dataloaders=dataloaders, criterion=criterion, optimizer=optimizer,\n",
        "           save_dir=save_dir, num_epochs=num_epochs, model_name='MiniVGG-BN')"
      ],
      "execution_count": 50,
      "outputs": [
        {
          "output_type": "stream",
          "text": [
            "\r  0%|          | 0/2 [00:00<?, ?it/s]"
          ],
          "name": "stderr"
        },
        {
          "output_type": "stream",
          "text": [
            "Epoch 0/19\n",
            "----------\n"
          ],
          "name": "stdout"
        },
        {
          "output_type": "stream",
          "text": [
            "100%|██████████| 2/2 [00:00<00:00,  3.08it/s]\n",
            "  0%|          | 0/4 [00:00<?, ?it/s]"
          ],
          "name": "stderr"
        },
        {
          "output_type": "stream",
          "text": [
            "train Loss: 4.5366 Acc: 0.2250\n"
          ],
          "name": "stdout"
        },
        {
          "output_type": "stream",
          "text": [
            "100%|██████████| 4/4 [00:01<00:00,  3.59it/s]\n",
            "  0%|          | 0/2 [00:00<?, ?it/s]"
          ],
          "name": "stderr"
        },
        {
          "output_type": "stream",
          "text": [
            "val Loss: 4.3487 Acc: 0.5050\n",
            "Epoch 1/19\n",
            "----------\n"
          ],
          "name": "stdout"
        },
        {
          "output_type": "stream",
          "text": [
            "100%|██████████| 2/2 [00:00<00:00,  3.00it/s]\n",
            "  0%|          | 0/4 [00:00<?, ?it/s]"
          ],
          "name": "stderr"
        },
        {
          "output_type": "stream",
          "text": [
            "train Loss: 2.7280 Acc: 0.5150\n"
          ],
          "name": "stdout"
        },
        {
          "output_type": "stream",
          "text": [
            "100%|██████████| 4/4 [00:01<00:00,  3.60it/s]\n",
            "  0%|          | 0/2 [00:00<?, ?it/s]"
          ],
          "name": "stderr"
        },
        {
          "output_type": "stream",
          "text": [
            "val Loss: 1.2324 Acc: 0.5000\n",
            "Epoch 2/19\n",
            "----------\n"
          ],
          "name": "stdout"
        },
        {
          "output_type": "stream",
          "text": [
            "100%|██████████| 2/2 [00:00<00:00,  3.05it/s]\n",
            "  0%|          | 0/4 [00:00<?, ?it/s]"
          ],
          "name": "stderr"
        },
        {
          "output_type": "stream",
          "text": [
            "train Loss: 15.9712 Acc: 0.5200\n"
          ],
          "name": "stdout"
        },
        {
          "output_type": "stream",
          "text": [
            "100%|██████████| 4/4 [00:01<00:00,  3.59it/s]\n",
            "  0%|          | 0/2 [00:00<?, ?it/s]"
          ],
          "name": "stderr"
        },
        {
          "output_type": "stream",
          "text": [
            "val Loss: 3.5220 Acc: 0.5000\n",
            "Epoch 3/19\n",
            "----------\n"
          ],
          "name": "stdout"
        },
        {
          "output_type": "stream",
          "text": [
            "100%|██████████| 2/2 [00:00<00:00,  3.09it/s]\n",
            "  0%|          | 0/4 [00:00<?, ?it/s]"
          ],
          "name": "stderr"
        },
        {
          "output_type": "stream",
          "text": [
            "train Loss: 3.8832 Acc: 0.5000\n"
          ],
          "name": "stdout"
        },
        {
          "output_type": "stream",
          "text": [
            "100%|██████████| 4/4 [00:01<00:00,  3.58it/s]\n",
            "  0%|          | 0/2 [00:00<?, ?it/s]"
          ],
          "name": "stderr"
        },
        {
          "output_type": "stream",
          "text": [
            "val Loss: 102.8992 Acc: 0.5000\n",
            "Epoch 4/19\n",
            "----------\n"
          ],
          "name": "stdout"
        },
        {
          "output_type": "stream",
          "text": [
            "100%|██████████| 2/2 [00:00<00:00,  3.08it/s]\n",
            "  0%|          | 0/4 [00:00<?, ?it/s]"
          ],
          "name": "stderr"
        },
        {
          "output_type": "stream",
          "text": [
            "train Loss: 4.2404 Acc: 0.5050\n"
          ],
          "name": "stdout"
        },
        {
          "output_type": "stream",
          "text": [
            "100%|██████████| 4/4 [00:01<00:00,  3.54it/s]\n",
            "  0%|          | 0/2 [00:00<?, ?it/s]"
          ],
          "name": "stderr"
        },
        {
          "output_type": "stream",
          "text": [
            "val Loss: 16.0162 Acc: 0.5000\n",
            "Epoch 5/19\n",
            "----------\n"
          ],
          "name": "stdout"
        },
        {
          "output_type": "stream",
          "text": [
            "100%|██████████| 2/2 [00:00<00:00,  3.00it/s]\n",
            "  0%|          | 0/4 [00:00<?, ?it/s]"
          ],
          "name": "stderr"
        },
        {
          "output_type": "stream",
          "text": [
            "train Loss: 2.3111 Acc: 0.5050\n"
          ],
          "name": "stdout"
        },
        {
          "output_type": "stream",
          "text": [
            "100%|██████████| 4/4 [00:01<00:00,  3.63it/s]\n",
            "  0%|          | 0/2 [00:00<?, ?it/s]"
          ],
          "name": "stderr"
        },
        {
          "output_type": "stream",
          "text": [
            "val Loss: 21.1415 Acc: 0.5000\n",
            "Epoch 6/19\n",
            "----------\n"
          ],
          "name": "stdout"
        },
        {
          "output_type": "stream",
          "text": [
            "100%|██████████| 2/2 [00:00<00:00,  3.08it/s]\n",
            "  0%|          | 0/4 [00:00<?, ?it/s]"
          ],
          "name": "stderr"
        },
        {
          "output_type": "stream",
          "text": [
            "train Loss: 7.6470 Acc: 0.4600\n"
          ],
          "name": "stdout"
        },
        {
          "output_type": "stream",
          "text": [
            "100%|██████████| 4/4 [00:01<00:00,  3.63it/s]\n",
            "  0%|          | 0/2 [00:00<?, ?it/s]"
          ],
          "name": "stderr"
        },
        {
          "output_type": "stream",
          "text": [
            "val Loss: 1.9321 Acc: 0.5000\n",
            "Epoch 7/19\n",
            "----------\n"
          ],
          "name": "stdout"
        },
        {
          "output_type": "stream",
          "text": [
            "100%|██████████| 2/2 [00:00<00:00,  3.04it/s]\n",
            "  0%|          | 0/4 [00:00<?, ?it/s]"
          ],
          "name": "stderr"
        },
        {
          "output_type": "stream",
          "text": [
            "train Loss: 2.1590 Acc: 0.5000\n"
          ],
          "name": "stdout"
        },
        {
          "output_type": "stream",
          "text": [
            "100%|██████████| 4/4 [00:01<00:00,  3.58it/s]\n",
            "  0%|          | 0/2 [00:00<?, ?it/s]"
          ],
          "name": "stderr"
        },
        {
          "output_type": "stream",
          "text": [
            "val Loss: 2.5450 Acc: 0.5000\n",
            "Epoch 8/19\n",
            "----------\n"
          ],
          "name": "stdout"
        },
        {
          "output_type": "stream",
          "text": [
            "100%|██████████| 2/2 [00:00<00:00,  3.06it/s]\n",
            "  0%|          | 0/4 [00:00<?, ?it/s]"
          ],
          "name": "stderr"
        },
        {
          "output_type": "stream",
          "text": [
            "train Loss: 1.9358 Acc: 0.5000\n"
          ],
          "name": "stdout"
        },
        {
          "output_type": "stream",
          "text": [
            "100%|██████████| 4/4 [00:01<00:00,  3.58it/s]\n",
            "  0%|          | 0/2 [00:00<?, ?it/s]"
          ],
          "name": "stderr"
        },
        {
          "output_type": "stream",
          "text": [
            "val Loss: 1.8145 Acc: 0.5000\n",
            "Epoch 9/19\n",
            "----------\n"
          ],
          "name": "stdout"
        },
        {
          "output_type": "stream",
          "text": [
            "100%|██████████| 2/2 [00:00<00:00,  3.01it/s]\n",
            "  0%|          | 0/4 [00:00<?, ?it/s]"
          ],
          "name": "stderr"
        },
        {
          "output_type": "stream",
          "text": [
            "train Loss: 1.7367 Acc: 0.5000\n"
          ],
          "name": "stdout"
        },
        {
          "output_type": "stream",
          "text": [
            "100%|██████████| 4/4 [00:01<00:00,  3.61it/s]\n",
            "  0%|          | 0/2 [00:00<?, ?it/s]"
          ],
          "name": "stderr"
        },
        {
          "output_type": "stream",
          "text": [
            "val Loss: 1.2262 Acc: 0.5000\n",
            "Epoch 10/19\n",
            "----------\n"
          ],
          "name": "stdout"
        },
        {
          "output_type": "stream",
          "text": [
            "100%|██████████| 2/2 [00:00<00:00,  3.03it/s]\n",
            "  0%|          | 0/4 [00:00<?, ?it/s]"
          ],
          "name": "stderr"
        },
        {
          "output_type": "stream",
          "text": [
            "train Loss: 1.2642 Acc: 0.4950\n"
          ],
          "name": "stdout"
        },
        {
          "output_type": "stream",
          "text": [
            "100%|██████████| 4/4 [00:01<00:00,  3.59it/s]\n",
            "  0%|          | 0/2 [00:00<?, ?it/s]"
          ],
          "name": "stderr"
        },
        {
          "output_type": "stream",
          "text": [
            "val Loss: 1.0338 Acc: 0.4875\n",
            "Epoch 11/19\n",
            "----------\n"
          ],
          "name": "stdout"
        },
        {
          "output_type": "stream",
          "text": [
            "100%|██████████| 2/2 [00:00<00:00,  2.99it/s]\n",
            "  0%|          | 0/4 [00:00<?, ?it/s]"
          ],
          "name": "stderr"
        },
        {
          "output_type": "stream",
          "text": [
            "train Loss: 1.0193 Acc: 0.5350\n"
          ],
          "name": "stdout"
        },
        {
          "output_type": "stream",
          "text": [
            "100%|██████████| 4/4 [00:01<00:00,  3.55it/s]\n",
            "  0%|          | 0/2 [00:00<?, ?it/s]"
          ],
          "name": "stderr"
        },
        {
          "output_type": "stream",
          "text": [
            "val Loss: 0.8293 Acc: 0.4950\n",
            "Epoch 12/19\n",
            "----------\n"
          ],
          "name": "stdout"
        },
        {
          "output_type": "stream",
          "text": [
            "100%|██████████| 2/2 [00:00<00:00,  3.08it/s]\n",
            "  0%|          | 0/4 [00:00<?, ?it/s]"
          ],
          "name": "stderr"
        },
        {
          "output_type": "stream",
          "text": [
            "train Loss: 0.9197 Acc: 0.4600\n"
          ],
          "name": "stdout"
        },
        {
          "output_type": "stream",
          "text": [
            "100%|██████████| 4/4 [00:01<00:00,  3.62it/s]\n",
            "  0%|          | 0/2 [00:00<?, ?it/s]"
          ],
          "name": "stderr"
        },
        {
          "output_type": "stream",
          "text": [
            "val Loss: 0.7924 Acc: 0.5000\n",
            "Epoch 13/19\n",
            "----------\n"
          ],
          "name": "stdout"
        },
        {
          "output_type": "stream",
          "text": [
            "100%|██████████| 2/2 [00:00<00:00,  3.07it/s]\n",
            "  0%|          | 0/4 [00:00<?, ?it/s]"
          ],
          "name": "stderr"
        },
        {
          "output_type": "stream",
          "text": [
            "train Loss: 0.8319 Acc: 0.5150\n"
          ],
          "name": "stdout"
        },
        {
          "output_type": "stream",
          "text": [
            "100%|██████████| 4/4 [00:01<00:00,  3.53it/s]\n",
            "  0%|          | 0/2 [00:00<?, ?it/s]"
          ],
          "name": "stderr"
        },
        {
          "output_type": "stream",
          "text": [
            "val Loss: 0.7765 Acc: 0.4975\n",
            "Epoch 14/19\n",
            "----------\n"
          ],
          "name": "stdout"
        },
        {
          "output_type": "stream",
          "text": [
            "100%|██████████| 2/2 [00:00<00:00,  3.03it/s]\n",
            "  0%|          | 0/4 [00:00<?, ?it/s]"
          ],
          "name": "stderr"
        },
        {
          "output_type": "stream",
          "text": [
            "train Loss: 0.8492 Acc: 0.4700\n"
          ],
          "name": "stdout"
        },
        {
          "output_type": "stream",
          "text": [
            "100%|██████████| 4/4 [00:01<00:00,  3.56it/s]\n",
            "  0%|          | 0/2 [00:00<?, ?it/s]"
          ],
          "name": "stderr"
        },
        {
          "output_type": "stream",
          "text": [
            "val Loss: 0.7446 Acc: 0.5150\n",
            "Epoch 15/19\n",
            "----------\n"
          ],
          "name": "stdout"
        },
        {
          "output_type": "stream",
          "text": [
            "100%|██████████| 2/2 [00:00<00:00,  2.98it/s]\n",
            "  0%|          | 0/4 [00:00<?, ?it/s]"
          ],
          "name": "stderr"
        },
        {
          "output_type": "stream",
          "text": [
            "train Loss: 0.7539 Acc: 0.5500\n"
          ],
          "name": "stdout"
        },
        {
          "output_type": "stream",
          "text": [
            "100%|██████████| 4/4 [00:01<00:00,  3.58it/s]\n",
            "  0%|          | 0/2 [00:00<?, ?it/s]"
          ],
          "name": "stderr"
        },
        {
          "output_type": "stream",
          "text": [
            "val Loss: 0.7642 Acc: 0.5100\n",
            "Epoch 16/19\n",
            "----------\n"
          ],
          "name": "stdout"
        },
        {
          "output_type": "stream",
          "text": [
            "100%|██████████| 2/2 [00:00<00:00,  3.01it/s]\n",
            "  0%|          | 0/4 [00:00<?, ?it/s]"
          ],
          "name": "stderr"
        },
        {
          "output_type": "stream",
          "text": [
            "train Loss: 0.7236 Acc: 0.5400\n"
          ],
          "name": "stdout"
        },
        {
          "output_type": "stream",
          "text": [
            "100%|██████████| 4/4 [00:01<00:00,  3.54it/s]\n",
            "  0%|          | 0/2 [00:00<?, ?it/s]"
          ],
          "name": "stderr"
        },
        {
          "output_type": "stream",
          "text": [
            "val Loss: 0.7717 Acc: 0.5200\n",
            "Epoch 17/19\n",
            "----------\n"
          ],
          "name": "stdout"
        },
        {
          "output_type": "stream",
          "text": [
            "100%|██████████| 2/2 [00:00<00:00,  3.02it/s]\n",
            "  0%|          | 0/4 [00:00<?, ?it/s]"
          ],
          "name": "stderr"
        },
        {
          "output_type": "stream",
          "text": [
            "train Loss: 0.7554 Acc: 0.5400\n"
          ],
          "name": "stdout"
        },
        {
          "output_type": "stream",
          "text": [
            "100%|██████████| 4/4 [00:01<00:00,  3.53it/s]\n",
            "  0%|          | 0/2 [00:00<?, ?it/s]"
          ],
          "name": "stderr"
        },
        {
          "output_type": "stream",
          "text": [
            "val Loss: 0.7801 Acc: 0.4875\n",
            "Epoch 18/19\n",
            "----------\n"
          ],
          "name": "stdout"
        },
        {
          "output_type": "stream",
          "text": [
            "100%|██████████| 2/2 [00:00<00:00,  3.00it/s]\n",
            "  0%|          | 0/4 [00:00<?, ?it/s]"
          ],
          "name": "stderr"
        },
        {
          "output_type": "stream",
          "text": [
            "train Loss: 0.7149 Acc: 0.5500\n"
          ],
          "name": "stdout"
        },
        {
          "output_type": "stream",
          "text": [
            "100%|██████████| 4/4 [00:01<00:00,  3.53it/s]\n",
            "  0%|          | 0/2 [00:00<?, ?it/s]"
          ],
          "name": "stderr"
        },
        {
          "output_type": "stream",
          "text": [
            "val Loss: 0.7557 Acc: 0.5125\n",
            "Epoch 19/19\n",
            "----------\n"
          ],
          "name": "stdout"
        },
        {
          "output_type": "stream",
          "text": [
            "100%|██████████| 2/2 [00:00<00:00,  2.99it/s]\n",
            "  0%|          | 0/4 [00:00<?, ?it/s]"
          ],
          "name": "stderr"
        },
        {
          "output_type": "stream",
          "text": [
            "train Loss: 0.7012 Acc: 0.5750\n"
          ],
          "name": "stdout"
        },
        {
          "output_type": "stream",
          "text": [
            "100%|██████████| 4/4 [00:01<00:00,  3.56it/s]"
          ],
          "name": "stderr"
        },
        {
          "output_type": "stream",
          "text": [
            "val Loss: 0.7484 Acc: 0.5075\n",
            "Best val Acc: 0.520000\n"
          ],
          "name": "stdout"
        },
        {
          "output_type": "stream",
          "text": [
            "\n"
          ],
          "name": "stderr"
        }
      ]
    },
    {
      "cell_type": "code",
      "metadata": {
        "id": "yFW-kIwfblUe",
        "colab": {
          "base_uri": "https://localhost:8080/",
          "height": 295
        },
        "outputId": "4fbdfd51-6679-456d-ed93-a24c0f8b8ba8"
      },
      "source": [
        "# visualize the training / validation accuracies\n",
        "\n",
        "x = np.arange(num_epochs)\n",
        "\n",
        "\n",
        "# train/val accuracies for MiniVGG-BN\n",
        "plt.plot(x, tr_his_BN)\n",
        "plt.plot(x, val_his_BN)\n",
        "plt.legend(['Training top1 accuracy', 'Validation top1 accuracy'])\n",
        "plt.xticks(x)\n",
        "plt.xlabel('Epoch')\n",
        "plt.ylabel('Top1 Accuracy')\n",
        "plt.title('MiniVGG-BN')\n",
        "plt.show()\n"
      ],
      "execution_count": 51,
      "outputs": [
        {
          "output_type": "display_data",
          "data": {
            "image/png": "[encoded data removed]",
            "text/plain": [
              "<Figure size 432x288 with 1 Axes>"
            ]
          },
          "metadata": {
            "tags": [],
            "needs_background": "light"
          }
        }
      ]
    },
    {
      "cell_type": "code",
      "metadata": {
        "id": "5ZdFjScPblUg"
      },
      "source": [
        "def accuracy(output, target, topk=(1,)):\n",
        "    '''\n",
        "    Computes the accuracy over the k top predictions for the specified values of k.\n",
        "    \n",
        "    Args:\n",
        "        output: pytorch tensor, (batch_size x num_classes). Outputs of the network for one batch.\n",
        "        target: pytorch tensor, (batch_size,). True labels for one batch.\n",
        "    \n",
        "    Returns:\n",
        "        res: list. Accuracies corresponding to topk[0], topk[1], ...\n",
        "    '''\n",
        "    with torch.no_grad():\n",
        "        maxk = max(topk)\n",
        "        batch_size = target.size(0)\n",
        "\n",
        "        _, pred = output.topk(maxk, 1, True, True)\n",
        "        pred = pred.t()\n",
        "        correct = pred.eq(target.view(1, -1).expand_as(pred))\n",
        "\n",
        "        res = []\n",
        "        for k in topk:\n",
        "            correct_k = correct[:k].reshape(-1).float().sum(0, keepdim=True)\n",
        "            res.append(correct_k.mul_(100.0 / batch_size))\n",
        "        return res\n",
        "\n",
        "def test(model, dataloader):\n",
        "\n",
        "    model.eval()\n",
        "\n",
        "    top1_acc = []\n",
        "    top5_acc = []\n",
        "    \n",
        "    with torch.no_grad():\n",
        "        for inputs, labels in dataloader:\n",
        "            inputs = inputs.to(device)\n",
        "            labels = labels.to(device)\n",
        "            outputs = model(inputs)\n",
        "\n",
        "            res = accuracy(outputs, labels, topk=(1, 5))\n",
        "\n",
        "            top1_acc.append(res[0] * len(outputs))\n",
        "            top5_acc.append(res[1] * len(outputs))\n",
        "\n",
        "    print('Top-1 accuracy {}%, Top-5 accuracy {}%'.format(sum(top1_acc).item()/10000, sum(top5_acc).item()/10000))"
      ],
      "execution_count": 45,
      "outputs": []
    },
    {
      "cell_type": "code",
      "metadata": {
        "id": "W4V_qjYFCLHV",
        "colab": {
          "base_uri": "https://localhost:8080/",
          "height": 1000
        },
        "outputId": "3a3c90d4-afbe-4d23-ad47-626d1362113d"
      },
      "source": [
        "##### To pass the test, both networks should have Top-5 accuracy above 55% #####\n",
        "# uncomment these two lines to load pretrained weights\n",
        "vgg_BN.load_state_dict(torch.load('./weights/MiniVGG-BN.pth'))\n",
        "print(vgg_BN.eval()) \n",
        "test(vgg_BN, dataloaders['test'])\n",
        "\n"
      ],
      "execution_count": 53,
      "outputs": [
        {
          "output_type": "stream",
          "text": [
            "VGG(\n",
            "  (features): Sequential(\n",
            "    (0): Conv2d(3, 64, kernel_size=(3, 3), stride=(1, 1), padding=(1, 1))\n",
            "    (1): BatchNorm2d(64, eps=1e-05, momentum=0.1, affine=True, track_running_stats=True)\n",
            "    (2): ReLU(inplace=True)\n",
            "    (3): MaxPool2d(kernel_size=(2, 2), stride=(2, 2), padding=0, dilation=1, ceil_mode=False)\n",
            "    (4): Conv2d(64, 128, kernel_size=(3, 3), stride=(1, 1), padding=(1, 1))\n",
            "    (5): BatchNorm2d(128, eps=1e-05, momentum=0.1, affine=True, track_running_stats=True)\n",
            "    (6): ReLU(inplace=True)\n",
            "    (7): MaxPool2d(kernel_size=(2, 2), stride=(2, 2), padding=0, dilation=1, ceil_mode=False)\n",
            "    (8): Conv2d(128, 128, kernel_size=(3, 3), stride=(1, 1), padding=(1, 1))\n",
            "    (9): BatchNorm2d(128, eps=1e-05, momentum=0.1, affine=True, track_running_stats=True)\n",
            "    (10): ReLU(inplace=True)\n",
            "    (11): Conv2d(128, 128, kernel_size=(3, 3), stride=(1, 1), padding=(1, 1))\n",
            "    (12): BatchNorm2d(128, eps=1e-05, momentum=0.1, affine=True, track_running_stats=True)\n",
            "    (13): ReLU(inplace=True)\n",
            "    (14): MaxPool2d(kernel_size=(2, 2), stride=(2, 2), padding=0, dilation=1, ceil_mode=False)\n",
            "  )\n",
            "  (avgpool): AdaptiveAvgPool2d(output_size=(5, 5))\n",
            "  (classifier): Sequential(\n",
            "    (0): Linear(in_features=3200, out_features=512, bias=True)\n",
            "    (1): ReLU(inplace=True)\n",
            "    (2): Dropout(p=0.3, inplace=False)\n",
            "    (3): Linear(in_features=512, out_features=256, bias=True)\n",
            "    (4): ReLU(inplace=True)\n",
            "    (5): Dropout(p=0.3, inplace=False)\n",
            "    (6): Linear(in_features=256, out_features=100, bias=True)\n",
            "  )\n",
            ")\n"
          ],
          "name": "stdout"
        },
        {
          "output_type": "error",
          "ename": "RuntimeError",
          "evalue": "ignored",
          "traceback": [
            "\u001b[0;31m---------------------------------------------------------------------------\u001b[0m",
            "\u001b[0;31mRuntimeError\u001b[0m                              Traceback (most recent call last)",
            "\u001b[0;32m<ipython-input-53-ff56e1dc9e72>\u001b[0m in \u001b[0;36m<module>\u001b[0;34m()\u001b[0m\n\u001b[1;32m      3\u001b[0m \u001b[0mvgg_BN\u001b[0m\u001b[0;34m.\u001b[0m\u001b[0mload_state_dict\u001b[0m\u001b[0;34m(\u001b[0m\u001b[0mtorch\u001b[0m\u001b[0;34m.\u001b[0m\u001b[0mload\u001b[0m\u001b[0;34m(\u001b[0m\u001b[0;34m'./weights/MiniVGG-BN.pth'\u001b[0m\u001b[0;34m)\u001b[0m\u001b[0;34m)\u001b[0m\u001b[0;34m\u001b[0m\u001b[0;34m\u001b[0m\u001b[0m\n\u001b[1;32m      4\u001b[0m \u001b[0mprint\u001b[0m\u001b[0;34m(\u001b[0m\u001b[0mvgg_BN\u001b[0m\u001b[0;34m.\u001b[0m\u001b[0meval\u001b[0m\u001b[0;34m(\u001b[0m\u001b[0;34m)\u001b[0m\u001b[0;34m)\u001b[0m\u001b[0;34m\u001b[0m\u001b[0;34m\u001b[0m\u001b[0m\n\u001b[0;32m----> 5\u001b[0;31m \u001b[0mtest\u001b[0m\u001b[0;34m(\u001b[0m\u001b[0mvgg_BN\u001b[0m\u001b[0;34m,\u001b[0m \u001b[0mdataloaders\u001b[0m\u001b[0;34m[\u001b[0m\u001b[0;34m'test'\u001b[0m\u001b[0;34m]\u001b[0m\u001b[0;34m)\u001b[0m\u001b[0;34m\u001b[0m\u001b[0;34m\u001b[0m\u001b[0m\n\u001b[0m\u001b[1;32m      6\u001b[0m \u001b[0;34m\u001b[0m\u001b[0m\n",
            "\u001b[0;32m<ipython-input-45-855137e06711>\u001b[0m in \u001b[0;36mtest\u001b[0;34m(model, dataloader)\u001b[0m\n\u001b[1;32m     32\u001b[0m \u001b[0;34m\u001b[0m\u001b[0m\n\u001b[1;32m     33\u001b[0m     \u001b[0;32mwith\u001b[0m \u001b[0mtorch\u001b[0m\u001b[0;34m.\u001b[0m\u001b[0mno_grad\u001b[0m\u001b[0;34m(\u001b[0m\u001b[0;34m)\u001b[0m\u001b[0;34m:\u001b[0m\u001b[0;34m\u001b[0m\u001b[0;34m\u001b[0m\u001b[0m\n\u001b[0;32m---> 34\u001b[0;31m         \u001b[0;32mfor\u001b[0m \u001b[0minputs\u001b[0m\u001b[0;34m,\u001b[0m \u001b[0mlabels\u001b[0m \u001b[0;32min\u001b[0m \u001b[0mdataloader\u001b[0m\u001b[0;34m:\u001b[0m\u001b[0;34m\u001b[0m\u001b[0;34m\u001b[0m\u001b[0m\n\u001b[0m\u001b[1;32m     35\u001b[0m             \u001b[0minputs\u001b[0m \u001b[0;34m=\u001b[0m \u001b[0minputs\u001b[0m\u001b[0;34m.\u001b[0m\u001b[0mto\u001b[0m\u001b[0;34m(\u001b[0m\u001b[0mdevice\u001b[0m\u001b[0;34m)\u001b[0m\u001b[0;34m\u001b[0m\u001b[0;34m\u001b[0m\u001b[0m\n\u001b[1;32m     36\u001b[0m             \u001b[0mlabels\u001b[0m \u001b[0;34m=\u001b[0m \u001b[0mlabels\u001b[0m\u001b[0;34m.\u001b[0m\u001b[0mto\u001b[0m\u001b[0;34m(\u001b[0m\u001b[0mdevice\u001b[0m\u001b[0;34m)\u001b[0m\u001b[0;34m\u001b[0m\u001b[0;34m\u001b[0m\u001b[0m\n",
            "\u001b[0;32m/usr/local/lib/python3.6/dist-packages/torch/utils/data/dataloader.py\u001b[0m in \u001b[0;36m__next__\u001b[0;34m(self)\u001b[0m\n\u001b[1;32m    433\u001b[0m         \u001b[0;32mif\u001b[0m \u001b[0mself\u001b[0m\u001b[0;34m.\u001b[0m\u001b[0m_sampler_iter\u001b[0m \u001b[0;32mis\u001b[0m \u001b[0;32mNone\u001b[0m\u001b[0;34m:\u001b[0m\u001b[0;34m\u001b[0m\u001b[0;34m\u001b[0m\u001b[0m\n\u001b[1;32m    434\u001b[0m             \u001b[0mself\u001b[0m\u001b[0;34m.\u001b[0m\u001b[0m_reset\u001b[0m\u001b[0;34m(\u001b[0m\u001b[0;34m)\u001b[0m\u001b[0;34m\u001b[0m\u001b[0;34m\u001b[0m\u001b[0m\n\u001b[0;32m--> 435\u001b[0;31m         \u001b[0mdata\u001b[0m \u001b[0;34m=\u001b[0m \u001b[0mself\u001b[0m\u001b[0;34m.\u001b[0m\u001b[0m_next_data\u001b[0m\u001b[0;34m(\u001b[0m\u001b[0;34m)\u001b[0m\u001b[0;34m\u001b[0m\u001b[0;34m\u001b[0m\u001b[0m\n\u001b[0m\u001b[1;32m    436\u001b[0m         \u001b[0mself\u001b[0m\u001b[0;34m.\u001b[0m\u001b[0m_num_yielded\u001b[0m \u001b[0;34m+=\u001b[0m \u001b[0;36m1\u001b[0m\u001b[0;34m\u001b[0m\u001b[0;34m\u001b[0m\u001b[0m\n\u001b[1;32m    437\u001b[0m         \u001b[0;32mif\u001b[0m \u001b[0mself\u001b[0m\u001b[0;34m.\u001b[0m\u001b[0m_dataset_kind\u001b[0m \u001b[0;34m==\u001b[0m \u001b[0m_DatasetKind\u001b[0m\u001b[0;34m.\u001b[0m\u001b[0mIterable\u001b[0m \u001b[0;32mand\u001b[0m\u001b[0;31m \u001b[0m\u001b[0;31m\\\u001b[0m\u001b[0;34m\u001b[0m\u001b[0;34m\u001b[0m\u001b[0m\n",
            "\u001b[0;32m/usr/local/lib/python3.6/dist-packages/torch/utils/data/dataloader.py\u001b[0m in \u001b[0;36m_next_data\u001b[0;34m(self)\u001b[0m\n\u001b[1;32m   1083\u001b[0m             \u001b[0;32melse\u001b[0m\u001b[0;34m:\u001b[0m\u001b[0;34m\u001b[0m\u001b[0;34m\u001b[0m\u001b[0m\n\u001b[1;32m   1084\u001b[0m                 \u001b[0;32mdel\u001b[0m \u001b[0mself\u001b[0m\u001b[0;34m.\u001b[0m\u001b[0m_task_info\u001b[0m\u001b[0;34m[\u001b[0m\u001b[0midx\u001b[0m\u001b[0;34m]\u001b[0m\u001b[0;34m\u001b[0m\u001b[0;34m\u001b[0m\u001b[0m\n\u001b[0;32m-> 1085\u001b[0;31m                 \u001b[0;32mreturn\u001b[0m \u001b[0mself\u001b[0m\u001b[0;34m.\u001b[0m\u001b[0m_process_data\u001b[0m\u001b[0;34m(\u001b[0m\u001b[0mdata\u001b[0m\u001b[0;34m)\u001b[0m\u001b[0;34m\u001b[0m\u001b[0;34m\u001b[0m\u001b[0m\n\u001b[0m\u001b[1;32m   1086\u001b[0m \u001b[0;34m\u001b[0m\u001b[0m\n\u001b[1;32m   1087\u001b[0m     \u001b[0;32mdef\u001b[0m \u001b[0m_try_put_index\u001b[0m\u001b[0;34m(\u001b[0m\u001b[0mself\u001b[0m\u001b[0;34m)\u001b[0m\u001b[0;34m:\u001b[0m\u001b[0;34m\u001b[0m\u001b[0;34m\u001b[0m\u001b[0m\n",
            "\u001b[0;32m/usr/local/lib/python3.6/dist-packages/torch/utils/data/dataloader.py\u001b[0m in \u001b[0;36m_process_data\u001b[0;34m(self, data)\u001b[0m\n\u001b[1;32m   1109\u001b[0m         \u001b[0mself\u001b[0m\u001b[0;34m.\u001b[0m\u001b[0m_try_put_index\u001b[0m\u001b[0;34m(\u001b[0m\u001b[0;34m)\u001b[0m\u001b[0;34m\u001b[0m\u001b[0;34m\u001b[0m\u001b[0m\n\u001b[1;32m   1110\u001b[0m         \u001b[0;32mif\u001b[0m \u001b[0misinstance\u001b[0m\u001b[0;34m(\u001b[0m\u001b[0mdata\u001b[0m\u001b[0;34m,\u001b[0m \u001b[0mExceptionWrapper\u001b[0m\u001b[0;34m)\u001b[0m\u001b[0;34m:\u001b[0m\u001b[0;34m\u001b[0m\u001b[0;34m\u001b[0m\u001b[0m\n\u001b[0;32m-> 1111\u001b[0;31m             \u001b[0mdata\u001b[0m\u001b[0;34m.\u001b[0m\u001b[0mreraise\u001b[0m\u001b[0;34m(\u001b[0m\u001b[0;34m)\u001b[0m\u001b[0;34m\u001b[0m\u001b[0;34m\u001b[0m\u001b[0m\n\u001b[0m\u001b[1;32m   1112\u001b[0m         \u001b[0;32mreturn\u001b[0m \u001b[0mdata\u001b[0m\u001b[0;34m\u001b[0m\u001b[0;34m\u001b[0m\u001b[0m\n\u001b[1;32m   1113\u001b[0m \u001b[0;34m\u001b[0m\u001b[0m\n",
            "\u001b[0;32m/usr/local/lib/python3.6/dist-packages/torch/_utils.py\u001b[0m in \u001b[0;36mreraise\u001b[0;34m(self)\u001b[0m\n\u001b[1;32m    426\u001b[0m             \u001b[0;31m# have message field\u001b[0m\u001b[0;34m\u001b[0m\u001b[0;34m\u001b[0m\u001b[0;34m\u001b[0m\u001b[0m\n\u001b[1;32m    427\u001b[0m             \u001b[0;32mraise\u001b[0m \u001b[0mself\u001b[0m\u001b[0;34m.\u001b[0m\u001b[0mexc_type\u001b[0m\u001b[0;34m(\u001b[0m\u001b[0mmessage\u001b[0m\u001b[0;34m=\u001b[0m\u001b[0mmsg\u001b[0m\u001b[0;34m)\u001b[0m\u001b[0;34m\u001b[0m\u001b[0;34m\u001b[0m\u001b[0m\n\u001b[0;32m--> 428\u001b[0;31m         \u001b[0;32mraise\u001b[0m \u001b[0mself\u001b[0m\u001b[0;34m.\u001b[0m\u001b[0mexc_type\u001b[0m\u001b[0;34m(\u001b[0m\u001b[0mmsg\u001b[0m\u001b[0;34m)\u001b[0m\u001b[0;34m\u001b[0m\u001b[0;34m\u001b[0m\u001b[0m\n\u001b[0m\u001b[1;32m    429\u001b[0m \u001b[0;34m\u001b[0m\u001b[0m\n\u001b[1;32m    430\u001b[0m \u001b[0;34m\u001b[0m\u001b[0m\n",
            "\u001b[0;31mRuntimeError\u001b[0m: Caught RuntimeError in DataLoader worker process 0.\nOriginal Traceback (most recent call last):\n  File \"/usr/local/lib/python3.6/dist-packages/torch/utils/data/_utils/worker.py\", line 198, in _worker_loop\n    data = fetcher.fetch(index)\n  File \"/usr/local/lib/python3.6/dist-packages/torch/utils/data/_utils/fetch.py\", line 47, in fetch\n    return self.collate_fn(data)\n  File \"/usr/local/lib/python3.6/dist-packages/torch/utils/data/_utils/collate.py\", line 83, in default_collate\n    return [default_collate(samples) for samples in transposed]\n  File \"/usr/local/lib/python3.6/dist-packages/torch/utils/data/_utils/collate.py\", line 83, in <listcomp>\n    return [default_collate(samples) for samples in transposed]\n  File \"/usr/local/lib/python3.6/dist-packages/torch/utils/data/_utils/collate.py\", line 55, in default_collate\n    return torch.stack(batch, 0, out=out)\nRuntimeError: stack expects each tensor to be equal size, but got [3, 64, 67] at entry 0 and [3, 64, 64] at entry 2\n"
          ]
        }
      ]
    }
  ]
}