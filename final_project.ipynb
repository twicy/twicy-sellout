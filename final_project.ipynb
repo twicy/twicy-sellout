{
  "nbformat": 4,
  "nbformat_minor": 0,
  "metadata": {
    "accelerator": "GPU",
    "colab": {
      "name": "final_project.ipynb",
      "provenance": [],
      "collapsed_sections": []
    },
    "kernelspec": {
      "display_name": "Python 3",
      "name": "python3"
    }
  },
  "cells": [
    {
      "cell_type": "code",
      "metadata": {
        "colab": {
          "base_uri": "https://localhost:8080/"
        },
        "id": "CXpAGgv1XpoC",
        "outputId": "43d7b8d2-a999-44ec-f9fa-d93161a7e269"
      },
      "source": [
        "import pickle\r\n",
        "import numpy as np\r\n",
        "import matplotlib.pyplot as plt\r\n",
        "import os\r\n",
        "import copy\r\n",
        "from tqdm import tqdm\r\n",
        "\r\n",
        "import torch\r\n",
        "import torchvision\r\n",
        "from torchvision import datasets, models, transforms\r\n",
        "import torch.nn as nn\r\n",
        "import torch.optim as optim\r\n",
        "\r\n",
        "print(\"PyTorch Version: \",torch.__version__)\r\n",
        "print(\"Torchvision Version: \",torchvision.__version__)\r\n",
        "# Detect if we have a GPU available\r\n",
        "device = torch.device(\"cuda:0\" if torch.cuda.is_available() else \"cpu\")\r\n",
        "if torch.cuda.is_available():\r\n",
        "    print(\"Using the GPU!\")\r\n",
        "else:\r\n",
        "    print(\"WARNING: Could not find GPU! Using CPU only. If you want to enable GPU, please to go Edit > Notebook Settings > Hardware Accelerator and select GPU.\")\r\n",
        "data_dir = \"./data\""
      ],
      "execution_count": null,
      "outputs": [
        {
          "output_type": "stream",
          "text": [
            "PyTorch Version:  1.7.0+cu101\n",
            "Torchvision Version:  0.8.1+cu101\n",
            "Using the GPU!\n"
          ],
          "name": "stdout"
        }
      ]
    },
    {
      "cell_type": "code",
      "metadata": {
        "id": "qVLInpQQbVMx"
      },
      "source": [
        "# !pip3 install face_recognition\r\n",
        "# !unzip /content/data.zip\r\n",
        "!unzip /content/deepfake.zip"
      ],
      "execution_count": null,
      "outputs": []
    },
    {
      "cell_type": "code",
      "metadata": {
        "colab": {
          "base_uri": "https://localhost:8080/"
        },
        "id": "gHKMJBf6PRDM",
        "outputId": "67ed466e-c231-46c6-f41b-2bda730e07f3"
      },
      "source": [
        "!pip3 install split-folders\n",
        "\n"
      ],
      "execution_count": null,
      "outputs": [
        {
          "output_type": "stream",
          "text": [
            "Collecting split-folders\n",
            "  Downloading https://files.pythonhosted.org/packages/b8/5f/3c2b2f7ea5e047c8cdc3bb00ae582c5438fcdbbedcc23b3cc1c2c7aae642/split_folders-0.4.3-py3-none-any.whl\n",
            "Installing collected packages: split-folders\n",
            "Successfully installed split-folders-0.4.3\n"
          ],
          "name": "stdout"
        }
      ]
    },
    {
      "cell_type": "code",
      "metadata": {
        "id": "bgAgdRBLr76Q",
        "colab": {
          "base_uri": "https://localhost:8080/"
        },
        "outputId": "ae9e56c5-d42b-4e73-db8b-8035ba5103de"
      },
      "source": [
        "import splitfolders  # or import split_folders\n",
        "\n",
        "# Split with a ratio.\n",
        "# To only split into training and validation set, set a tuple to `ratio`, i.e, `(.8, .2)`.\n",
        "splitfolders.ratio(\"deepfake\", output=\"data\", seed=1337, ratio=(.25, .5, .25), group_prefix=None) # default values"
      ],
      "execution_count": null,
      "outputs": [
        {
          "output_type": "stream",
          "text": [
            "Copying files: 5405 files [00:01, 4551.34 files/s]\n"
          ],
          "name": "stderr"
        }
      ]
    },
    {
      "cell_type": "code",
      "metadata": {
        "id": "vELvzrzTpk3U"
      },
      "source": [
        "def get_dataloaders(input_size, batch_size, shuffle = True):\n",
        "    '''\n",
        "    Build dataloaders with transformations. \n",
        "\n",
        "    Args:\n",
        "        input_size: int, the size of the tranformed images\n",
        "        batch_size: int, minibatch size for dataloading\n",
        "\n",
        "    Returns:\n",
        "        dataloader_dict: dict, dict with \"train\", \"val\", \"test\" keys, each is mapped to a pytorch dataloader.\n",
        "\n",
        "    '''\n",
        "\n",
        "    mean = [0.485, 0.456, 0.406]\n",
        "    std = [0.229, 0.224, 0.225]\n",
        "\n",
        "    #++++++++++++++++++++++++++++++++++++++++++++++#\n",
        "    #++++++++++++++++++++++++++++++++++++++++++++++#\n",
        "    # ============== YOUR CODE HERE ============== #  \n",
        "\n",
        "    # ========= Step 1: build transformations for the dataset ===========\n",
        "    # You need to construct build a data transformation that does three preprocessings in order:\n",
        "    # I.   Resize the image to input_size using transforms.Resize\n",
        "    # II.  Convert the image to PyTorch tensor using transforms.ToTensor\n",
        "    # III. Normalize the images with the provided mean and std parameters using transforms.Normalize. These parameters are accumulated from a large number of training samples.\n",
        "    # You can use transforms.Compose to combine the above three transformations. Store the combined transforms in variable 'composed_transform'.\n",
        "    composed_transform = transforms.Compose(\n",
        "    [transforms.Resize((256,265)),\n",
        "     transforms.ToTensor(),\n",
        "     transforms.Normalize((0.5, 0.5, 0.5), (0.5, 0.5, 0.5))])\n",
        "\n",
        "    \n",
        "    # ============== END OF CODE ================= # \n",
        "    #++++++++++++++++++++++++++++++++++++++++++++++#\n",
        "    #++++++++++++++++++++++++++++++++++++++++++++++#\n",
        "\n",
        "    # We write the remaining part of the dataloader for you.  \n",
        "    # You are encouraged to go through this.\n",
        "\n",
        "    # ========= Step 2: We build dataloaders for the downloaded data ===========\n",
        "    # I.   We use torch.datasets.ImageFolder with the provided data_dir and the data transfomations you created in step 1 to contruct pytorch datasets for train/val/test \n",
        "    # II.  Then we use torch.utils.data.DataLoader to build dataloaders with the constructed pytorch datasets, you need to enable shuffling for training set. Set num_workers=2 to speed up dataloading.\n",
        "    # III. Finally, we put the dataloaders into a dictionary\n",
        "\n",
        "    # Create train/val/test datasets\n",
        "    data_transforms = {\n",
        "        'train': composed_transform,\n",
        "        'val': composed_transform,\n",
        "        'test': composed_transform\n",
        "    }\n",
        "    image_datasets = {x: datasets.ImageFolder(os.path.join(data_dir, x), data_transforms[x]) for x in data_transforms.keys()}\n",
        "\n",
        "    # Create training train/val/test dataloaders\n",
        "    # Never shuffle the val and test datasets\n",
        "    dataloaders_dict = {x: torch.utils.data.DataLoader(image_datasets[x], batch_size=batch_size, shuffle=False if x != 'train' else shuffle, num_workers=2) for x in data_transforms.keys()}\n",
        "    \n",
        "\n",
        "\n",
        "    return dataloaders_dict"
      ],
      "execution_count": null,
      "outputs": []
    },
    {
      "cell_type": "code",
      "metadata": {
        "colab": {
          "base_uri": "https://localhost:8080/"
        },
        "id": "XQ85VyUwKeju",
        "outputId": "335a8e85-762b-482f-a040-b58bd852d518"
      },
      "source": [
        "batch_size = 32\n",
        "input_size = 256\n",
        "dataloaders_dict = get_dataloaders(input_size, batch_size)\n",
        "\n",
        "# Confirm your train/val/test sets contain 90,000/10,000/10,000 samples\n",
        "print('# of training samples {}'.format(len(dataloaders_dict['train'].dataset))) \n",
        "print('# of validation samples {}'.format(len(dataloaders_dict['val'].dataset)))  \n",
        "print('# of test samples {}'.format(len(dataloaders_dict['test'].dataset))) "
      ],
      "execution_count": null,
      "outputs": [
        {
          "output_type": "stream",
          "text": [
            "# of training samples 1350\n",
            "# of validation samples 2702\n",
            "# of test samples 1353\n"
          ],
          "name": "stdout"
        }
      ]
    },
    {
      "cell_type": "code",
      "metadata": {
        "id": "V6yXydgmnKjg"
      },
      "source": [
        "# Helper function for counting number of trainable parameters.\n",
        "def count_params(model):\n",
        "    '''\n",
        "    Counts the number of trainable parameters in PyTorch.\n",
        "\n",
        "    Args:\n",
        "        model: PyTorch model.\n",
        "\n",
        "    Returns:\n",
        "        num_params: int, number of trainable parameters.\n",
        "    '''\n",
        "\n",
        "    num_params = sum([item.numel() for item in model.parameters() if item.requires_grad])\n",
        "\n",
        "    return num_params"
      ],
      "execution_count": null,
      "outputs": []
    },
    {
      "cell_type": "code",
      "metadata": {
        "id": "dVzbyGMQxW8c"
      },
      "source": [
        "# Network configurations for all layers before the final fully-connected layers. \n",
        "# \"M\" corresponds to maxpooling layer, integers correspond to number of output channels of a convolutional layer.\n",
        "cfgs = {\n",
        "    'MiniVGG': [64, 'M', 128, 'M', 128, 128, 'M'],\n",
        "    'MiniVGG-BN': [64, 'M', 128, 'M', 128, 128, 'M']\n",
        "}\n",
        "\n",
        "def make_layers(cfg, batch_norm=False):\n",
        "\n",
        "    '''\n",
        "    Return a nn.Sequential object containing all layers to get the features using the CNN.\n",
        "    (That is, before the Average pooling layer in the two pictures above). \n",
        "\n",
        "    Args:\n",
        "      cfg: list\n",
        "      batch_norm: bool, default: False. If set to True, a BatchNorm layer should be added after each convolutional layer.\n",
        "\n",
        "    Return:\n",
        "      features: torch.nn.Sequential. Containers for all feature extraction layers. For use of torch.nn.Sequential, please refer to PyTorch documents.\n",
        "    '''\n",
        "    #++++++++++++++++++++++++++++++++++++++++++++++#\n",
        "    #++++++++++++++++++++++++++++++++++++++++++++++#\n",
        "    # ============== YOUR CODE HERE ============== # \n",
        "    layers = []\n",
        "    temp = 3\n",
        "    for layer in cfg:\n",
        "      if layer == 'M':\n",
        "        layers += [nn.MaxPool2d(kernel_size=(2, 2), stride=(2, 2), padding = 0, dilation = 1, ceil_mode = False)]\n",
        "      else:\n",
        "        convolved = nn.Conv2d(temp, layer, kernel_size=(3, 3), stride = (1, 1), padding=(1, 1))\n",
        "        temp = layer\n",
        "        if batch_norm:\n",
        "          layers+=([convolved, nn.BatchNorm2d(temp), nn.ReLU(inplace=True)])\n",
        "        else:\n",
        "          layers+=([convolved, nn.ReLU(inplace=True)])\n",
        "    return nn.Sequential(*layers)\n",
        "\n",
        "    # ============== END OF CODE ================= # \n",
        "    #++++++++++++++++++++++++++++++++++++++++++++++#\n",
        "    #++++++++++++++++++++++++++++++++++++++++++++++#\n",
        "\n",
        "class VGG(nn.Module):\n",
        "\n",
        "    def __init__(self, features, num_classes=100, init_weights=True):\n",
        "        super(VGG, self).__init__()\n",
        "\n",
        "        self.features = features\n",
        "        self.avgpool = nn.AdaptiveAvgPool2d((5, 5))\n",
        "\n",
        "         \n",
        "        #++++++++++++++++++++++++++++++++++++++++++++++#\n",
        "        #++++++++++++++++++++++++++++++++++++++++++++++#\n",
        "        # ============== YOUR CODE HERE ============== #\n",
        "        # Construct the final FC layers using nn.Sequential.\n",
        "        # NOTE: The avgpool layer has already been defined by us above.\n",
        "         \n",
        "        self.classifier = nn.Sequential(\n",
        "            nn.Linear(in_features = 3200,out_features = 512,bias= True),\n",
        "            nn.ReLU(True),\n",
        "            nn.Dropout(p=0.5, inplace = False),\n",
        "            nn.Linear(in_features = 512,out_features = 256,bias= True),\n",
        "            nn.ReLU(True),\n",
        "            nn.Dropout(p=0.5, inplace = False),\n",
        "            nn.Linear(in_features = 256,out_features = 100,bias= True),\n",
        "        )\n",
        "        \n",
        "        # ============== END OF CODE ================= # \n",
        "        #++++++++++++++++++++++++++++++++++++++++++++++#\n",
        "        #++++++++++++++++++++++++++++++++++++++++++++++#\n",
        "\n",
        "        if init_weights:\n",
        "            self._initialize_weights()\n",
        "\n",
        "    def forward(self, x): \n",
        "        x = self.features(x)\n",
        "        x = self.avgpool(x)\n",
        "        x = torch.flatten(x, 1)\n",
        "        x = self.classifier(x)\n",
        "        return x\n",
        "\n",
        "    def _initialize_weights(self):\n",
        "        for m in self.modules():\n",
        "            if isinstance(m, nn.Conv2d):\n",
        "                nn.init.kaiming_normal_(m.weight, mode='fan_out', nonlinearity='relu')\n",
        "                if m.bias is not None:\n",
        "                    nn.init.constant_(m.bias, 0)\n",
        "            elif isinstance(m, nn.BatchNorm2d):\n",
        "                nn.init.constant_(m.weight, 1)\n",
        "                nn.init.constant_(m.bias, 0)\n",
        "            elif isinstance(m, nn.Linear):\n",
        "                nn.init.normal_(m.weight, 0, 0.01)\n",
        "                nn.init.constant_(m.bias, 0)"
      ],
      "execution_count": null,
      "outputs": []
    },
    {
      "cell_type": "markdown",
      "metadata": {
        "id": "-0ntklAQSH_k"
      },
      "source": [
        "MESO4 Network\r\n"
      ]
    },
    {
      "cell_type": "code",
      "metadata": {
        "id": "1X2_xE9VSHTW"
      },
      "source": [
        "class Meso4(nn.Module):\r\n",
        "\t\"\"\"\r\n",
        "\tPytorch Implemention of Meso4\r\n",
        "\tAutor: Honggu Liu\r\n",
        "\tDate: July 4, 2019\r\n",
        "\t\"\"\"\r\n",
        "\tdef __init__(self, num_classes=2):\r\n",
        "\t\tsuper(Meso4, self).__init__()\r\n",
        "\t\tself.num_classes = num_classes\r\n",
        "\t\tself.conv1 = nn.Conv2d(3, 8, 3, padding=1, bias=False)\r\n",
        "\t\tself.bn1 = nn.BatchNorm2d(8)\r\n",
        "\t\tself.relu = nn.ReLU(inplace=True)\r\n",
        "\t\tself.leakyrelu = nn.LeakyReLU(0.1)\r\n",
        "\r\n",
        "\t\tself.conv2 = nn.Conv2d(8, 8, 5, padding=2, bias=False)\r\n",
        "\t\tself.bn2 = nn.BatchNorm2d(16)\r\n",
        "\t\tself.conv3 = nn.Conv2d(8, 16, 5, padding=2, bias=False)\r\n",
        "\t\tself.conv4 = nn.Conv2d(16, 16, 5, padding=2, bias=False)\r\n",
        "\t\tself.maxpooling1 = nn.MaxPool2d(kernel_size=(2, 2))\r\n",
        "\t\tself.maxpooling2 = nn.MaxPool2d(kernel_size=(4, 4))\r\n",
        "\t\t#flatten: x = x.view(x.size(0), -1)\r\n",
        "\t\tself.dropout = nn.Dropout2d(0.5)\r\n",
        "\t\tself.fc1 = nn.Linear(16*8*8, 16)\r\n",
        "\t\tself.fc2 = nn.Linear(16, num_classes)\r\n",
        "\r\n",
        "\tdef forward(self, input):\r\n",
        "\t\tx = self.conv1(input) #(8, 256, 256)\r\n",
        "\t\tx = self.relu(x)\r\n",
        "\t\tx = self.bn1(x)\r\n",
        "\t\tx = self.maxpooling1(x) #(8, 128, 128)\r\n",
        "\r\n",
        "\t\tx = self.conv2(x) #(8, 128, 128)\r\n",
        "\t\tx = self.relu(x)\r\n",
        "\t\tx = self.bn1(x)\r\n",
        "\t\tx = self.maxpooling1(x) #(8, 64, 64)\r\n",
        "\r\n",
        "\t\tx = self.conv3(x) #(16, 64, 64)\r\n",
        "\t\tx = self.relu(x)\r\n",
        "\t\tx = self.bn2(x)\r\n",
        "\t\tx = self.maxpooling1(x) #(16, 32, 32)\r\n",
        "\r\n",
        "\t\tx = self.conv4(x) #(16, 32, 32)\r\n",
        "\t\tx = self.relu(x)\r\n",
        "\t\tx = self.bn2(x)\r\n",
        "\t\tx = self.maxpooling2(x) #(16, 8, 8)\r\n",
        "\r\n",
        "\t\tx = x.view(x.size(0), -1) #(Batch, 16*8*8)\r\n",
        "\t\tx = self.dropout(x)\r\n",
        "\t\tx = self.fc1(x) #(Batch, 16)\r\n",
        "\t\tx = self.leakyrelu(x)\r\n",
        "\t\tx = self.dropout(x)\r\n",
        "\t\tx = self.fc2(x)\r\n",
        "\r\n",
        "\t\treturn x\r\n",
        "\r\n",
        "\r\n",
        "class MesoInception4(nn.Module):\r\n",
        "\t\"\"\"\r\n",
        "\tPytorch Implemention of MesoInception4\r\n",
        "\tAuthor: Honggu Liu\r\n",
        "\tDate: July 7, 2019\r\n",
        "\t\"\"\"\r\n",
        "\tdef __init__(self, num_classes=2):\r\n",
        "\t\tsuper(MesoInception4, self).__init__()\r\n",
        "\t\tself.num_classes = num_classes\r\n",
        "\t\t#InceptionLayer1\r\n",
        "\t\tself.Incption1_conv1 = nn.Conv2d(3, 1, 1, padding=0, bias=False)\r\n",
        "\t\tself.Incption1_conv2_1 = nn.Conv2d(3, 4, 1, padding=0, bias=False)\r\n",
        "\t\tself.Incption1_conv2_2 = nn.Conv2d(4, 4, 3, padding=1, bias=False)\r\n",
        "\t\tself.Incption1_conv3_1 = nn.Conv2d(3, 4, 1, padding=0, bias=False)\r\n",
        "\t\tself.Incption1_conv3_2 = nn.Conv2d(4, 4, 3, padding=2, dilation=2, bias=False)\r\n",
        "\t\tself.Incption1_conv4_1 = nn.Conv2d(3, 2, 1, padding=0, bias=False)\r\n",
        "\t\tself.Incption1_conv4_2 = nn.Conv2d(2, 2, 3, padding=3, dilation=3, bias=False)\r\n",
        "\t\tself.Incption1_bn = nn.BatchNorm2d(11)\r\n",
        "\r\n",
        "\r\n",
        "\t\t#InceptionLayer2\r\n",
        "\t\tself.Incption2_conv1 = nn.Conv2d(11, 2, 1, padding=0, bias=False)\r\n",
        "\t\tself.Incption2_conv2_1 = nn.Conv2d(11, 4, 1, padding=0, bias=False)\r\n",
        "\t\tself.Incption2_conv2_2 = nn.Conv2d(4, 4, 3, padding=1, bias=False)\r\n",
        "\t\tself.Incption2_conv3_1 = nn.Conv2d(11, 4, 1, padding=0, bias=False)\r\n",
        "\t\tself.Incption2_conv3_2 = nn.Conv2d(4, 4, 3, padding=2, dilation=2, bias=False)\r\n",
        "\t\tself.Incption2_conv4_1 = nn.Conv2d(11, 2, 1, padding=0, bias=False)\r\n",
        "\t\tself.Incption2_conv4_2 = nn.Conv2d(2, 2, 3, padding=3, dilation=3, bias=False)\r\n",
        "\t\tself.Incption2_bn = nn.BatchNorm2d(12)\r\n",
        "\r\n",
        "\t\t#Normal Layer\r\n",
        "\t\tself.conv1 = nn.Conv2d(12, 16, 5, padding=2, bias=False)\r\n",
        "\t\tself.relu = nn.ReLU(inplace=True)\r\n",
        "\t\tself.leakyrelu = nn.LeakyReLU(0.1)\r\n",
        "\t\tself.bn1 = nn.BatchNorm2d(16)\r\n",
        "\t\tself.maxpooling1 = nn.MaxPool2d(kernel_size=(2, 2))\r\n",
        "\r\n",
        "\t\tself.conv2 = nn.Conv2d(16, 16, 5, padding=2, bias=False)\r\n",
        "\t\tself.maxpooling2 = nn.MaxPool2d(kernel_size=(4, 4))\r\n",
        "\r\n",
        "\t\tself.dropout = nn.Dropout2d(0.5)\r\n",
        "\t\tself.fc1 = nn.Linear(16*8*8, 16)\r\n",
        "\t\tself.fc2 = nn.Linear(16, num_classes)\r\n",
        "\r\n",
        "\r\n",
        "\t#InceptionLayer\r\n",
        "\tdef InceptionLayer1(self, input):\r\n",
        "\t\tx1 = self.Incption1_conv1(input)\r\n",
        "\t\tx2 = self.Incption1_conv2_1(input)\r\n",
        "\t\tx2 = self.Incption1_conv2_2(x2)\r\n",
        "\t\tx3 = self.Incption1_conv3_1(input)\r\n",
        "\t\tx3 = self.Incption1_conv3_2(x3)\r\n",
        "\t\tx4 = self.Incption1_conv4_1(input)\r\n",
        "\t\tx4 = self.Incption1_conv4_2(x4)\r\n",
        "\t\ty = torch.cat((x1, x2, x3, x4), 1)\r\n",
        "\t\ty = self.Incption1_bn(y)\r\n",
        "\t\ty = self.maxpooling1(y)\r\n",
        "\r\n",
        "\t\treturn y\r\n",
        "\r\n",
        "\tdef InceptionLayer2(self, input):\r\n",
        "\t\tx1 = self.Incption2_conv1(input)\r\n",
        "\t\tx2 = self.Incption2_conv2_1(input)\r\n",
        "\t\tx2 = self.Incption2_conv2_2(x2)\r\n",
        "\t\tx3 = self.Incption2_conv3_1(input)\r\n",
        "\t\tx3 = self.Incption2_conv3_2(x3)\r\n",
        "\t\tx4 = self.Incption2_conv4_1(input)\r\n",
        "\t\tx4 = self.Incption2_conv4_2(x4)\r\n",
        "\t\ty = torch.cat((x1, x2, x3, x4), 1)\r\n",
        "\t\ty = self.Incption2_bn(y)\r\n",
        "\t\ty = self.maxpooling1(y)\r\n",
        "\r\n",
        "\t\treturn y\r\n",
        "\r\n",
        "\tdef forward(self, input):\r\n",
        "\t\tx = self.InceptionLayer1(input) #(Batch, 11, 128, 128)\r\n",
        "\t\tx = self.InceptionLayer2(x) #(Batch, 12, 64, 64)\r\n",
        "\r\n",
        "\t\tx = self.conv1(x) #(Batch, 16, 64 ,64)\r\n",
        "\t\tx = self.relu(x)\r\n",
        "\t\tx = self.bn1(x)\r\n",
        "\t\tx = self.maxpooling1(x) #(Batch, 16, 32, 32)\r\n",
        "\r\n",
        "\t\tx = self.conv2(x) #(Batch, 16, 32, 32)\r\n",
        "\t\tx = self.relu(x)\r\n",
        "\t\tx = self.bn1(x)\r\n",
        "\t\tx = self.maxpooling2(x) #(Batch, 16, 8, 8)\r\n",
        "\r\n",
        "\t\tx = x.view(x.size(0), -1) #(Batch, 16*8*8)\r\n",
        "\t\tx = self.dropout(x)\r\n",
        "\t\tx = self.fc1(x) #(Batch, 16)\r\n",
        "\t\tx = self.leakyrelu(x)\r\n",
        "\t\tx = self.dropout(x)\r\n",
        "\t\tx = self.fc2(x)\r\n",
        "\r\n",
        "\t\treturn x"
      ],
      "execution_count": null,
      "outputs": []
    },
    {
      "cell_type": "markdown",
      "metadata": {
        "id": "z5gubEsKGI16"
      },
      "source": [
        "Xception net"
      ]
    },
    {
      "cell_type": "code",
      "metadata": {
        "id": "brAVGh6XGNVi"
      },
      "source": [
        "\"\"\" \n",
        "Creates an Xception Model as defined in:\n",
        "Francois Chollet\n",
        "Xception: Deep Learning with Depthwise Separable Convolutions\n",
        "https://arxiv.org/pdf/1610.02357.pdf\n",
        "This weights ported from the Keras implementation. Achieves the following performance on the validation set:\n",
        "Loss:0.9173 Prec@1:78.892 Prec@5:94.292\n",
        "REMEMBER to set your image size to 3x299x299 for both test and validation\n",
        "normalize = transforms.Normalize(mean=[0.5, 0.5, 0.5],\n",
        "                                  std=[0.5, 0.5, 0.5])\n",
        "The resize parameter of the validation transform should be 333, and make sure to center crop at 299x299\n",
        "\"\"\"\n",
        "import math\n",
        "import torch.nn as nn\n",
        "import torch.nn.functional as F\n",
        "import torch.utils.model_zoo as model_zoo\n",
        "from torch.nn import init\n",
        "import torch\n",
        "\n",
        "__all__ = ['xception']\n",
        "\n",
        "model_urls = {\n",
        "    'xception':'https://www.dropbox.com/s/1hplpzet9d7dv29/xception-c0a72b38.pth.tar?dl=1'\n",
        "}\n",
        "\n",
        "\n",
        "class SeparableConv2d(nn.Module):\n",
        "    def __init__(self,in_channels,out_channels,kernel_size=1,stride=1,padding=0,dilation=1,bias=False):\n",
        "        super(SeparableConv2d,self).__init__()\n",
        "\n",
        "        self.conv1 = nn.Conv2d(in_channels,in_channels,kernel_size,stride,padding,dilation,groups=in_channels,bias=bias)\n",
        "        self.pointwise = nn.Conv2d(in_channels,out_channels,1,1,0,1,1,bias=bias)\n",
        "    \n",
        "    def forward(self,x):\n",
        "        x = self.conv1(x)\n",
        "        x = self.pointwise(x)\n",
        "        return x\n",
        "\n",
        "\n",
        "class Block(nn.Module):\n",
        "    def __init__(self,in_filters,out_filters,reps,strides=1,start_with_relu=True,grow_first=True):\n",
        "        super(Block, self).__init__()\n",
        "\n",
        "        if out_filters != in_filters or strides!=1:\n",
        "            self.skip = nn.Conv2d(in_filters,out_filters,1,stride=strides, bias=False)\n",
        "            self.skipbn = nn.BatchNorm2d(out_filters)\n",
        "        else:\n",
        "            self.skip=None\n",
        "        \n",
        "        self.relu = nn.ReLU(inplace=True)\n",
        "        rep=[]\n",
        "\n",
        "        filters=in_filters\n",
        "        if grow_first:\n",
        "            rep.append(self.relu)\n",
        "            rep.append(SeparableConv2d(in_filters,out_filters,3,stride=1,padding=1,bias=False))\n",
        "            rep.append(nn.BatchNorm2d(out_filters))\n",
        "            filters = out_filters\n",
        "\n",
        "        for i in range(reps-1):\n",
        "            rep.append(self.relu)\n",
        "            rep.append(SeparableConv2d(filters,filters,3,stride=1,padding=1,bias=False))\n",
        "            rep.append(nn.BatchNorm2d(filters))\n",
        "        \n",
        "        if not grow_first:\n",
        "            rep.append(self.relu)\n",
        "            rep.append(SeparableConv2d(in_filters,out_filters,3,stride=1,padding=1,bias=False))\n",
        "            rep.append(nn.BatchNorm2d(out_filters))\n",
        "\n",
        "        if not start_with_relu:\n",
        "            rep = rep[1:]\n",
        "        else:\n",
        "            rep[0] = nn.ReLU(inplace=False)\n",
        "\n",
        "        if strides != 1:\n",
        "            rep.append(nn.MaxPool2d(3,strides,1))\n",
        "        self.rep = nn.Sequential(*rep)\n",
        "\n",
        "    def forward(self,inp):\n",
        "        x = self.rep(inp)\n",
        "\n",
        "        if self.skip is not None:\n",
        "            skip = self.skip(inp)\n",
        "            skip = self.skipbn(skip)\n",
        "        else:\n",
        "            skip = inp\n",
        "\n",
        "        x+=skip\n",
        "        return x\n",
        "\n",
        "\n",
        "\n",
        "class Xception(nn.Module):\n",
        "    \"\"\"\n",
        "    Xception optimized for the ImageNet dataset, as specified in\n",
        "    https://arxiv.org/pdf/1610.02357.pdf\n",
        "    \"\"\"\n",
        "    def __init__(self, num_classes=1000):\n",
        "        \"\"\" Constructor\n",
        "        Args:\n",
        "            num_classes: number of classes\n",
        "        \"\"\"\n",
        "        super(Xception, self).__init__()\n",
        "\n",
        "        \n",
        "        self.num_classes = num_classes\n",
        "\n",
        "        self.conv1 = nn.Conv2d(3, 32, 3,2, 0, bias=False)\n",
        "        self.bn1 = nn.BatchNorm2d(32)\n",
        "        self.relu = nn.ReLU(inplace=True)\n",
        "\n",
        "        self.conv2 = nn.Conv2d(32,64,3,bias=False)\n",
        "        self.bn2 = nn.BatchNorm2d(64)\n",
        "        #do relu here\n",
        "\n",
        "        self.block1=Block(64,128,2,2,start_with_relu=False,grow_first=True)\n",
        "        self.block2=Block(128,256,2,2,start_with_relu=True,grow_first=True)\n",
        "        self.block3=Block(256,728,2,2,start_with_relu=True,grow_first=True)\n",
        "\n",
        "        self.block4=Block(728,728,3,1,start_with_relu=True,grow_first=True)\n",
        "        self.block5=Block(728,728,3,1,start_with_relu=True,grow_first=True)\n",
        "        self.block6=Block(728,728,3,1,start_with_relu=True,grow_first=True)\n",
        "        self.block7=Block(728,728,3,1,start_with_relu=True,grow_first=True)\n",
        "\n",
        "        self.block8=Block(728,728,3,1,start_with_relu=True,grow_first=True)\n",
        "        self.block9=Block(728,728,3,1,start_with_relu=True,grow_first=True)\n",
        "        self.block10=Block(728,728,3,1,start_with_relu=True,grow_first=True)\n",
        "        self.block11=Block(728,728,3,1,start_with_relu=True,grow_first=True)\n",
        "\n",
        "        self.block12=Block(728,1024,2,2,start_with_relu=True,grow_first=False)\n",
        "\n",
        "        self.conv3 = SeparableConv2d(1024,1536,3,1,1)\n",
        "        self.bn3 = nn.BatchNorm2d(1536)\n",
        "\n",
        "        #do relu here\n",
        "        self.conv4 = SeparableConv2d(1536,2048,3,1,1)\n",
        "        self.bn4 = nn.BatchNorm2d(2048)\n",
        "\n",
        "        self.fc = nn.Linear(2048, num_classes)\n",
        "\n",
        "\n",
        "\n",
        "        #------- init weights --------\n",
        "        for m in self.modules():\n",
        "            if isinstance(m, nn.Conv2d):\n",
        "                n = m.kernel_size[0] * m.kernel_size[1] * m.out_channels\n",
        "                m.weight.data.normal_(0, math.sqrt(2. / n))\n",
        "            elif isinstance(m, nn.BatchNorm2d):\n",
        "                m.weight.data.fill_(1)\n",
        "                m.bias.data.zero_()\n",
        "        #-----------------------------\n",
        "\n",
        "\n",
        "\n",
        "\n",
        "\n",
        "    def forward(self, x):\n",
        "        x = self.conv1(x)\n",
        "        x = self.bn1(x)\n",
        "        x = self.relu(x)\n",
        "        \n",
        "        x = self.conv2(x)\n",
        "        x = self.bn2(x)\n",
        "        x = self.relu(x)\n",
        "        \n",
        "        x = self.block1(x)\n",
        "        x = self.block2(x)\n",
        "        x = self.block3(x)\n",
        "        x = self.block4(x)\n",
        "        x = self.block5(x)\n",
        "        x = self.block6(x)\n",
        "        x = self.block7(x)\n",
        "        x = self.block8(x)\n",
        "        x = self.block9(x)\n",
        "        x = self.block10(x)\n",
        "        x = self.block11(x)\n",
        "        x = self.block12(x)\n",
        "        \n",
        "        x = self.conv3(x)\n",
        "        x = self.bn3(x)\n",
        "        x = self.relu(x)\n",
        "        \n",
        "        x = self.conv4(x)\n",
        "        x = self.bn4(x)\n",
        "        x = self.relu(x)\n",
        "\n",
        "        x = F.adaptive_avg_pool2d(x, (1, 1))\n",
        "        x = x.view(x.size(0), -1)\n",
        "        x = self.fc(x)\n",
        "\n",
        "        return x\n",
        "\n",
        "\n",
        "\n",
        "def xception(pretrained=False,**kwargs):\n",
        "    \"\"\"\n",
        "    Construct Xception.\n",
        "    \"\"\"\n",
        "\n",
        "    model = Xception(**kwargs)\n",
        "    if pretrained:\n",
        "        model.load_state_dict(model_zoo.load_url(model_urls['xception']))\n",
        "    return model"
      ],
      "execution_count": null,
      "outputs": []
    },
    {
      "cell_type": "code",
      "metadata": {
        "colab": {
          "base_uri": "https://localhost:8080/"
        },
        "id": "-IBbv7mW0gFq",
        "outputId": "bc65f90a-2598-453d-fd13-42094d43f678"
      },
      "source": [
        "features = make_layers(cfgs['MiniVGG'], batch_norm=False)\n",
        "vgg = VGG(features)\n",
        "\n",
        "features = make_layers(cfgs['MiniVGG-BN'], batch_norm=True)\n",
        "vgg_bn = VGG(features)\n",
        "\n",
        "meso4 = Meso4()\n",
        "meso4I = MesoInception4()\n",
        "\n",
        "xcept = Xception()\n",
        "\n",
        "print(meso4)\n",
        "print('Number of trainable parameters {}'.format(count_params(meso4)))\n",
        "\n",
        "print(meso4I)\n",
        "print('Number of trainable parameters {}'.format(count_params(meso4I)))\n",
        "\n",
        "print(xcept)\n",
        "print('Number of trainable parameters {}'.format(count_params(xcept)))\n",
        "\n",
        "# Print the network architectrue. Please compare the printed architecture with the one given in the instruction above. \n",
        "# Make sure your network has the same architecture as the one we give above.\n",
        "# print(vgg)\n",
        "# print('Number of trainable parameters {}'.format(count_params(vgg)))\n",
        "\n",
        "print(vgg_bn)\n",
        "print('Number of trainable parameters {}'.format(count_params(vgg_bn)))"
      ],
      "execution_count": null,
      "outputs": [
        {
          "output_type": "stream",
          "text": [
            "Meso4(\n",
            "  (conv1): Conv2d(3, 8, kernel_size=(3, 3), stride=(1, 1), padding=(1, 1), bias=False)\n",
            "  (bn1): BatchNorm2d(8, eps=1e-05, momentum=0.1, affine=True, track_running_stats=True)\n",
            "  (relu): ReLU(inplace=True)\n",
            "  (leakyrelu): LeakyReLU(negative_slope=0.1)\n",
            "  (conv2): Conv2d(8, 8, kernel_size=(5, 5), stride=(1, 1), padding=(2, 2), bias=False)\n",
            "  (bn2): BatchNorm2d(16, eps=1e-05, momentum=0.1, affine=True, track_running_stats=True)\n",
            "  (conv3): Conv2d(8, 16, kernel_size=(5, 5), stride=(1, 1), padding=(2, 2), bias=False)\n",
            "  (conv4): Conv2d(16, 16, kernel_size=(5, 5), stride=(1, 1), padding=(2, 2), bias=False)\n",
            "  (maxpooling1): MaxPool2d(kernel_size=(2, 2), stride=(2, 2), padding=0, dilation=1, ceil_mode=False)\n",
            "  (maxpooling2): MaxPool2d(kernel_size=(4, 4), stride=(4, 4), padding=0, dilation=1, ceil_mode=False)\n",
            "  (dropout): Dropout2d(p=0.5, inplace=False)\n",
            "  (fc1): Linear(in_features=1024, out_features=16, bias=True)\n",
            "  (fc2): Linear(in_features=16, out_features=2, bias=True)\n",
            ")\n",
            "Number of trainable parameters 27898\n",
            "MesoInception4(\n",
            "  (Incption1_conv1): Conv2d(3, 1, kernel_size=(1, 1), stride=(1, 1), bias=False)\n",
            "  (Incption1_conv2_1): Conv2d(3, 4, kernel_size=(1, 1), stride=(1, 1), bias=False)\n",
            "  (Incption1_conv2_2): Conv2d(4, 4, kernel_size=(3, 3), stride=(1, 1), padding=(1, 1), bias=False)\n",
            "  (Incption1_conv3_1): Conv2d(3, 4, kernel_size=(1, 1), stride=(1, 1), bias=False)\n",
            "  (Incption1_conv3_2): Conv2d(4, 4, kernel_size=(3, 3), stride=(1, 1), padding=(2, 2), dilation=(2, 2), bias=False)\n",
            "  (Incption1_conv4_1): Conv2d(3, 2, kernel_size=(1, 1), stride=(1, 1), bias=False)\n",
            "  (Incption1_conv4_2): Conv2d(2, 2, kernel_size=(3, 3), stride=(1, 1), padding=(3, 3), dilation=(3, 3), bias=False)\n",
            "  (Incption1_bn): BatchNorm2d(11, eps=1e-05, momentum=0.1, affine=True, track_running_stats=True)\n",
            "  (Incption2_conv1): Conv2d(11, 2, kernel_size=(1, 1), stride=(1, 1), bias=False)\n",
            "  (Incption2_conv2_1): Conv2d(11, 4, kernel_size=(1, 1), stride=(1, 1), bias=False)\n",
            "  (Incption2_conv2_2): Conv2d(4, 4, kernel_size=(3, 3), stride=(1, 1), padding=(1, 1), bias=False)\n",
            "  (Incption2_conv3_1): Conv2d(11, 4, kernel_size=(1, 1), stride=(1, 1), bias=False)\n",
            "  (Incption2_conv3_2): Conv2d(4, 4, kernel_size=(3, 3), stride=(1, 1), padding=(2, 2), dilation=(2, 2), bias=False)\n",
            "  (Incption2_conv4_1): Conv2d(11, 2, kernel_size=(1, 1), stride=(1, 1), bias=False)\n",
            "  (Incption2_conv4_2): Conv2d(2, 2, kernel_size=(3, 3), stride=(1, 1), padding=(3, 3), dilation=(3, 3), bias=False)\n",
            "  (Incption2_bn): BatchNorm2d(12, eps=1e-05, momentum=0.1, affine=True, track_running_stats=True)\n",
            "  (conv1): Conv2d(12, 16, kernel_size=(5, 5), stride=(1, 1), padding=(2, 2), bias=False)\n",
            "  (relu): ReLU(inplace=True)\n",
            "  (leakyrelu): LeakyReLU(negative_slope=0.1)\n",
            "  (bn1): BatchNorm2d(16, eps=1e-05, momentum=0.1, affine=True, track_running_stats=True)\n",
            "  (maxpooling1): MaxPool2d(kernel_size=(2, 2), stride=(2, 2), padding=0, dilation=1, ceil_mode=False)\n",
            "  (conv2): Conv2d(16, 16, kernel_size=(5, 5), stride=(1, 1), padding=(2, 2), bias=False)\n",
            "  (maxpooling2): MaxPool2d(kernel_size=(4, 4), stride=(4, 4), padding=0, dilation=1, ceil_mode=False)\n",
            "  (dropout): Dropout2d(p=0.5, inplace=False)\n",
            "  (fc1): Linear(in_features=1024, out_features=16, bias=True)\n",
            "  (fc2): Linear(in_features=16, out_features=2, bias=True)\n",
            ")\n",
            "Number of trainable parameters 28525\n",
            "Xception(\n",
            "  (conv1): Conv2d(3, 32, kernel_size=(3, 3), stride=(2, 2), bias=False)\n",
            "  (bn1): BatchNorm2d(32, eps=1e-05, momentum=0.1, affine=True, track_running_stats=True)\n",
            "  (relu): ReLU(inplace=True)\n",
            "  (conv2): Conv2d(32, 64, kernel_size=(3, 3), stride=(1, 1), bias=False)\n",
            "  (bn2): BatchNorm2d(64, eps=1e-05, momentum=0.1, affine=True, track_running_stats=True)\n",
            "  (block1): Block(\n",
            "    (skip): Conv2d(64, 128, kernel_size=(1, 1), stride=(2, 2), bias=False)\n",
            "    (skipbn): BatchNorm2d(128, eps=1e-05, momentum=0.1, affine=True, track_running_stats=True)\n",
            "    (relu): ReLU(inplace=True)\n",
            "    (rep): Sequential(\n",
            "      (0): SeparableConv2d(\n",
            "        (conv1): Conv2d(64, 64, kernel_size=(3, 3), stride=(1, 1), padding=(1, 1), groups=64, bias=False)\n",
            "        (pointwise): Conv2d(64, 128, kernel_size=(1, 1), stride=(1, 1), bias=False)\n",
            "      )\n",
            "      (1): BatchNorm2d(128, eps=1e-05, momentum=0.1, affine=True, track_running_stats=True)\n",
            "      (2): ReLU(inplace=True)\n",
            "      (3): SeparableConv2d(\n",
            "        (conv1): Conv2d(128, 128, kernel_size=(3, 3), stride=(1, 1), padding=(1, 1), groups=128, bias=False)\n",
            "        (pointwise): Conv2d(128, 128, kernel_size=(1, 1), stride=(1, 1), bias=False)\n",
            "      )\n",
            "      (4): BatchNorm2d(128, eps=1e-05, momentum=0.1, affine=True, track_running_stats=True)\n",
            "      (5): MaxPool2d(kernel_size=3, stride=2, padding=1, dilation=1, ceil_mode=False)\n",
            "    )\n",
            "  )\n",
            "  (block2): Block(\n",
            "    (skip): Conv2d(128, 256, kernel_size=(1, 1), stride=(2, 2), bias=False)\n",
            "    (skipbn): BatchNorm2d(256, eps=1e-05, momentum=0.1, affine=True, track_running_stats=True)\n",
            "    (relu): ReLU(inplace=True)\n",
            "    (rep): Sequential(\n",
            "      (0): ReLU()\n",
            "      (1): SeparableConv2d(\n",
            "        (conv1): Conv2d(128, 128, kernel_size=(3, 3), stride=(1, 1), padding=(1, 1), groups=128, bias=False)\n",
            "        (pointwise): Conv2d(128, 256, kernel_size=(1, 1), stride=(1, 1), bias=False)\n",
            "      )\n",
            "      (2): BatchNorm2d(256, eps=1e-05, momentum=0.1, affine=True, track_running_stats=True)\n",
            "      (3): ReLU(inplace=True)\n",
            "      (4): SeparableConv2d(\n",
            "        (conv1): Conv2d(256, 256, kernel_size=(3, 3), stride=(1, 1), padding=(1, 1), groups=256, bias=False)\n",
            "        (pointwise): Conv2d(256, 256, kernel_size=(1, 1), stride=(1, 1), bias=False)\n",
            "      )\n",
            "      (5): BatchNorm2d(256, eps=1e-05, momentum=0.1, affine=True, track_running_stats=True)\n",
            "      (6): MaxPool2d(kernel_size=3, stride=2, padding=1, dilation=1, ceil_mode=False)\n",
            "    )\n",
            "  )\n",
            "  (block3): Block(\n",
            "    (skip): Conv2d(256, 728, kernel_size=(1, 1), stride=(2, 2), bias=False)\n",
            "    (skipbn): BatchNorm2d(728, eps=1e-05, momentum=0.1, affine=True, track_running_stats=True)\n",
            "    (relu): ReLU(inplace=True)\n",
            "    (rep): Sequential(\n",
            "      (0): ReLU()\n",
            "      (1): SeparableConv2d(\n",
            "        (conv1): Conv2d(256, 256, kernel_size=(3, 3), stride=(1, 1), padding=(1, 1), groups=256, bias=False)\n",
            "        (pointwise): Conv2d(256, 728, kernel_size=(1, 1), stride=(1, 1), bias=False)\n",
            "      )\n",
            "      (2): BatchNorm2d(728, eps=1e-05, momentum=0.1, affine=True, track_running_stats=True)\n",
            "      (3): ReLU(inplace=True)\n",
            "      (4): SeparableConv2d(\n",
            "        (conv1): Conv2d(728, 728, kernel_size=(3, 3), stride=(1, 1), padding=(1, 1), groups=728, bias=False)\n",
            "        (pointwise): Conv2d(728, 728, kernel_size=(1, 1), stride=(1, 1), bias=False)\n",
            "      )\n",
            "      (5): BatchNorm2d(728, eps=1e-05, momentum=0.1, affine=True, track_running_stats=True)\n",
            "      (6): MaxPool2d(kernel_size=3, stride=2, padding=1, dilation=1, ceil_mode=False)\n",
            "    )\n",
            "  )\n",
            "  (block4): Block(\n",
            "    (relu): ReLU(inplace=True)\n",
            "    (rep): Sequential(\n",
            "      (0): ReLU()\n",
            "      (1): SeparableConv2d(\n",
            "        (conv1): Conv2d(728, 728, kernel_size=(3, 3), stride=(1, 1), padding=(1, 1), groups=728, bias=False)\n",
            "        (pointwise): Conv2d(728, 728, kernel_size=(1, 1), stride=(1, 1), bias=False)\n",
            "      )\n",
            "      (2): BatchNorm2d(728, eps=1e-05, momentum=0.1, affine=True, track_running_stats=True)\n",
            "      (3): ReLU(inplace=True)\n",
            "      (4): SeparableConv2d(\n",
            "        (conv1): Conv2d(728, 728, kernel_size=(3, 3), stride=(1, 1), padding=(1, 1), groups=728, bias=False)\n",
            "        (pointwise): Conv2d(728, 728, kernel_size=(1, 1), stride=(1, 1), bias=False)\n",
            "      )\n",
            "      (5): BatchNorm2d(728, eps=1e-05, momentum=0.1, affine=True, track_running_stats=True)\n",
            "      (6): ReLU(inplace=True)\n",
            "      (7): SeparableConv2d(\n",
            "        (conv1): Conv2d(728, 728, kernel_size=(3, 3), stride=(1, 1), padding=(1, 1), groups=728, bias=False)\n",
            "        (pointwise): Conv2d(728, 728, kernel_size=(1, 1), stride=(1, 1), bias=False)\n",
            "      )\n",
            "      (8): BatchNorm2d(728, eps=1e-05, momentum=0.1, affine=True, track_running_stats=True)\n",
            "    )\n",
            "  )\n",
            "  (block5): Block(\n",
            "    (relu): ReLU(inplace=True)\n",
            "    (rep): Sequential(\n",
            "      (0): ReLU()\n",
            "      (1): SeparableConv2d(\n",
            "        (conv1): Conv2d(728, 728, kernel_size=(3, 3), stride=(1, 1), padding=(1, 1), groups=728, bias=False)\n",
            "        (pointwise): Conv2d(728, 728, kernel_size=(1, 1), stride=(1, 1), bias=False)\n",
            "      )\n",
            "      (2): BatchNorm2d(728, eps=1e-05, momentum=0.1, affine=True, track_running_stats=True)\n",
            "      (3): ReLU(inplace=True)\n",
            "      (4): SeparableConv2d(\n",
            "        (conv1): Conv2d(728, 728, kernel_size=(3, 3), stride=(1, 1), padding=(1, 1), groups=728, bias=False)\n",
            "        (pointwise): Conv2d(728, 728, kernel_size=(1, 1), stride=(1, 1), bias=False)\n",
            "      )\n",
            "      (5): BatchNorm2d(728, eps=1e-05, momentum=0.1, affine=True, track_running_stats=True)\n",
            "      (6): ReLU(inplace=True)\n",
            "      (7): SeparableConv2d(\n",
            "        (conv1): Conv2d(728, 728, kernel_size=(3, 3), stride=(1, 1), padding=(1, 1), groups=728, bias=False)\n",
            "        (pointwise): Conv2d(728, 728, kernel_size=(1, 1), stride=(1, 1), bias=False)\n",
            "      )\n",
            "      (8): BatchNorm2d(728, eps=1e-05, momentum=0.1, affine=True, track_running_stats=True)\n",
            "    )\n",
            "  )\n",
            "  (block6): Block(\n",
            "    (relu): ReLU(inplace=True)\n",
            "    (rep): Sequential(\n",
            "      (0): ReLU()\n",
            "      (1): SeparableConv2d(\n",
            "        (conv1): Conv2d(728, 728, kernel_size=(3, 3), stride=(1, 1), padding=(1, 1), groups=728, bias=False)\n",
            "        (pointwise): Conv2d(728, 728, kernel_size=(1, 1), stride=(1, 1), bias=False)\n",
            "      )\n",
            "      (2): BatchNorm2d(728, eps=1e-05, momentum=0.1, affine=True, track_running_stats=True)\n",
            "      (3): ReLU(inplace=True)\n",
            "      (4): SeparableConv2d(\n",
            "        (conv1): Conv2d(728, 728, kernel_size=(3, 3), stride=(1, 1), padding=(1, 1), groups=728, bias=False)\n",
            "        (pointwise): Conv2d(728, 728, kernel_size=(1, 1), stride=(1, 1), bias=False)\n",
            "      )\n",
            "      (5): BatchNorm2d(728, eps=1e-05, momentum=0.1, affine=True, track_running_stats=True)\n",
            "      (6): ReLU(inplace=True)\n",
            "      (7): SeparableConv2d(\n",
            "        (conv1): Conv2d(728, 728, kernel_size=(3, 3), stride=(1, 1), padding=(1, 1), groups=728, bias=False)\n",
            "        (pointwise): Conv2d(728, 728, kernel_size=(1, 1), stride=(1, 1), bias=False)\n",
            "      )\n",
            "      (8): BatchNorm2d(728, eps=1e-05, momentum=0.1, affine=True, track_running_stats=True)\n",
            "    )\n",
            "  )\n",
            "  (block7): Block(\n",
            "    (relu): ReLU(inplace=True)\n",
            "    (rep): Sequential(\n",
            "      (0): ReLU()\n",
            "      (1): SeparableConv2d(\n",
            "        (conv1): Conv2d(728, 728, kernel_size=(3, 3), stride=(1, 1), padding=(1, 1), groups=728, bias=False)\n",
            "        (pointwise): Conv2d(728, 728, kernel_size=(1, 1), stride=(1, 1), bias=False)\n",
            "      )\n",
            "      (2): BatchNorm2d(728, eps=1e-05, momentum=0.1, affine=True, track_running_stats=True)\n",
            "      (3): ReLU(inplace=True)\n",
            "      (4): SeparableConv2d(\n",
            "        (conv1): Conv2d(728, 728, kernel_size=(3, 3), stride=(1, 1), padding=(1, 1), groups=728, bias=False)\n",
            "        (pointwise): Conv2d(728, 728, kernel_size=(1, 1), stride=(1, 1), bias=False)\n",
            "      )\n",
            "      (5): BatchNorm2d(728, eps=1e-05, momentum=0.1, affine=True, track_running_stats=True)\n",
            "      (6): ReLU(inplace=True)\n",
            "      (7): SeparableConv2d(\n",
            "        (conv1): Conv2d(728, 728, kernel_size=(3, 3), stride=(1, 1), padding=(1, 1), groups=728, bias=False)\n",
            "        (pointwise): Conv2d(728, 728, kernel_size=(1, 1), stride=(1, 1), bias=False)\n",
            "      )\n",
            "      (8): BatchNorm2d(728, eps=1e-05, momentum=0.1, affine=True, track_running_stats=True)\n",
            "    )\n",
            "  )\n",
            "  (block8): Block(\n",
            "    (relu): ReLU(inplace=True)\n",
            "    (rep): Sequential(\n",
            "      (0): ReLU()\n",
            "      (1): SeparableConv2d(\n",
            "        (conv1): Conv2d(728, 728, kernel_size=(3, 3), stride=(1, 1), padding=(1, 1), groups=728, bias=False)\n",
            "        (pointwise): Conv2d(728, 728, kernel_size=(1, 1), stride=(1, 1), bias=False)\n",
            "      )\n",
            "      (2): BatchNorm2d(728, eps=1e-05, momentum=0.1, affine=True, track_running_stats=True)\n",
            "      (3): ReLU(inplace=True)\n",
            "      (4): SeparableConv2d(\n",
            "        (conv1): Conv2d(728, 728, kernel_size=(3, 3), stride=(1, 1), padding=(1, 1), groups=728, bias=False)\n",
            "        (pointwise): Conv2d(728, 728, kernel_size=(1, 1), stride=(1, 1), bias=False)\n",
            "      )\n",
            "      (5): BatchNorm2d(728, eps=1e-05, momentum=0.1, affine=True, track_running_stats=True)\n",
            "      (6): ReLU(inplace=True)\n",
            "      (7): SeparableConv2d(\n",
            "        (conv1): Conv2d(728, 728, kernel_size=(3, 3), stride=(1, 1), padding=(1, 1), groups=728, bias=False)\n",
            "        (pointwise): Conv2d(728, 728, kernel_size=(1, 1), stride=(1, 1), bias=False)\n",
            "      )\n",
            "      (8): BatchNorm2d(728, eps=1e-05, momentum=0.1, affine=True, track_running_stats=True)\n",
            "    )\n",
            "  )\n",
            "  (block9): Block(\n",
            "    (relu): ReLU(inplace=True)\n",
            "    (rep): Sequential(\n",
            "      (0): ReLU()\n",
            "      (1): SeparableConv2d(\n",
            "        (conv1): Conv2d(728, 728, kernel_size=(3, 3), stride=(1, 1), padding=(1, 1), groups=728, bias=False)\n",
            "        (pointwise): Conv2d(728, 728, kernel_size=(1, 1), stride=(1, 1), bias=False)\n",
            "      )\n",
            "      (2): BatchNorm2d(728, eps=1e-05, momentum=0.1, affine=True, track_running_stats=True)\n",
            "      (3): ReLU(inplace=True)\n",
            "      (4): SeparableConv2d(\n",
            "        (conv1): Conv2d(728, 728, kernel_size=(3, 3), stride=(1, 1), padding=(1, 1), groups=728, bias=False)\n",
            "        (pointwise): Conv2d(728, 728, kernel_size=(1, 1), stride=(1, 1), bias=False)\n",
            "      )\n",
            "      (5): BatchNorm2d(728, eps=1e-05, momentum=0.1, affine=True, track_running_stats=True)\n",
            "      (6): ReLU(inplace=True)\n",
            "      (7): SeparableConv2d(\n",
            "        (conv1): Conv2d(728, 728, kernel_size=(3, 3), stride=(1, 1), padding=(1, 1), groups=728, bias=False)\n",
            "        (pointwise): Conv2d(728, 728, kernel_size=(1, 1), stride=(1, 1), bias=False)\n",
            "      )\n",
            "      (8): BatchNorm2d(728, eps=1e-05, momentum=0.1, affine=True, track_running_stats=True)\n",
            "    )\n",
            "  )\n",
            "  (block10): Block(\n",
            "    (relu): ReLU(inplace=True)\n",
            "    (rep): Sequential(\n",
            "      (0): ReLU()\n",
            "      (1): SeparableConv2d(\n",
            "        (conv1): Conv2d(728, 728, kernel_size=(3, 3), stride=(1, 1), padding=(1, 1), groups=728, bias=False)\n",
            "        (pointwise): Conv2d(728, 728, kernel_size=(1, 1), stride=(1, 1), bias=False)\n",
            "      )\n",
            "      (2): BatchNorm2d(728, eps=1e-05, momentum=0.1, affine=True, track_running_stats=True)\n",
            "      (3): ReLU(inplace=True)\n",
            "      (4): SeparableConv2d(\n",
            "        (conv1): Conv2d(728, 728, kernel_size=(3, 3), stride=(1, 1), padding=(1, 1), groups=728, bias=False)\n",
            "        (pointwise): Conv2d(728, 728, kernel_size=(1, 1), stride=(1, 1), bias=False)\n",
            "      )\n",
            "      (5): BatchNorm2d(728, eps=1e-05, momentum=0.1, affine=True, track_running_stats=True)\n",
            "      (6): ReLU(inplace=True)\n",
            "      (7): SeparableConv2d(\n",
            "        (conv1): Conv2d(728, 728, kernel_size=(3, 3), stride=(1, 1), padding=(1, 1), groups=728, bias=False)\n",
            "        (pointwise): Conv2d(728, 728, kernel_size=(1, 1), stride=(1, 1), bias=False)\n",
            "      )\n",
            "      (8): BatchNorm2d(728, eps=1e-05, momentum=0.1, affine=True, track_running_stats=True)\n",
            "    )\n",
            "  )\n",
            "  (block11): Block(\n",
            "    (relu): ReLU(inplace=True)\n",
            "    (rep): Sequential(\n",
            "      (0): ReLU()\n",
            "      (1): SeparableConv2d(\n",
            "        (conv1): Conv2d(728, 728, kernel_size=(3, 3), stride=(1, 1), padding=(1, 1), groups=728, bias=False)\n",
            "        (pointwise): Conv2d(728, 728, kernel_size=(1, 1), stride=(1, 1), bias=False)\n",
            "      )\n",
            "      (2): BatchNorm2d(728, eps=1e-05, momentum=0.1, affine=True, track_running_stats=True)\n",
            "      (3): ReLU(inplace=True)\n",
            "      (4): SeparableConv2d(\n",
            "        (conv1): Conv2d(728, 728, kernel_size=(3, 3), stride=(1, 1), padding=(1, 1), groups=728, bias=False)\n",
            "        (pointwise): Conv2d(728, 728, kernel_size=(1, 1), stride=(1, 1), bias=False)\n",
            "      )\n",
            "      (5): BatchNorm2d(728, eps=1e-05, momentum=0.1, affine=True, track_running_stats=True)\n",
            "      (6): ReLU(inplace=True)\n",
            "      (7): SeparableConv2d(\n",
            "        (conv1): Conv2d(728, 728, kernel_size=(3, 3), stride=(1, 1), padding=(1, 1), groups=728, bias=False)\n",
            "        (pointwise): Conv2d(728, 728, kernel_size=(1, 1), stride=(1, 1), bias=False)\n",
            "      )\n",
            "      (8): BatchNorm2d(728, eps=1e-05, momentum=0.1, affine=True, track_running_stats=True)\n",
            "    )\n",
            "  )\n",
            "  (block12): Block(\n",
            "    (skip): Conv2d(728, 1024, kernel_size=(1, 1), stride=(2, 2), bias=False)\n",
            "    (skipbn): BatchNorm2d(1024, eps=1e-05, momentum=0.1, affine=True, track_running_stats=True)\n",
            "    (relu): ReLU(inplace=True)\n",
            "    (rep): Sequential(\n",
            "      (0): ReLU()\n",
            "      (1): SeparableConv2d(\n",
            "        (conv1): Conv2d(728, 728, kernel_size=(3, 3), stride=(1, 1), padding=(1, 1), groups=728, bias=False)\n",
            "        (pointwise): Conv2d(728, 728, kernel_size=(1, 1), stride=(1, 1), bias=False)\n",
            "      )\n",
            "      (2): BatchNorm2d(728, eps=1e-05, momentum=0.1, affine=True, track_running_stats=True)\n",
            "      (3): ReLU(inplace=True)\n",
            "      (4): SeparableConv2d(\n",
            "        (conv1): Conv2d(728, 728, kernel_size=(3, 3), stride=(1, 1), padding=(1, 1), groups=728, bias=False)\n",
            "        (pointwise): Conv2d(728, 1024, kernel_size=(1, 1), stride=(1, 1), bias=False)\n",
            "      )\n",
            "      (5): BatchNorm2d(1024, eps=1e-05, momentum=0.1, affine=True, track_running_stats=True)\n",
            "      (6): MaxPool2d(kernel_size=3, stride=2, padding=1, dilation=1, ceil_mode=False)\n",
            "    )\n",
            "  )\n",
            "  (conv3): SeparableConv2d(\n",
            "    (conv1): Conv2d(1024, 1024, kernel_size=(3, 3), stride=(1, 1), padding=(1, 1), groups=1024, bias=False)\n",
            "    (pointwise): Conv2d(1024, 1536, kernel_size=(1, 1), stride=(1, 1), bias=False)\n",
            "  )\n",
            "  (bn3): BatchNorm2d(1536, eps=1e-05, momentum=0.1, affine=True, track_running_stats=True)\n",
            "  (conv4): SeparableConv2d(\n",
            "    (conv1): Conv2d(1536, 1536, kernel_size=(3, 3), stride=(1, 1), padding=(1, 1), groups=1536, bias=False)\n",
            "    (pointwise): Conv2d(1536, 2048, kernel_size=(1, 1), stride=(1, 1), bias=False)\n",
            "  )\n",
            "  (bn4): BatchNorm2d(2048, eps=1e-05, momentum=0.1, affine=True, track_running_stats=True)\n",
            "  (fc): Linear(in_features=2048, out_features=1000, bias=True)\n",
            ")\n",
            "Number of trainable parameters 22855952\n",
            "VGG(\n",
            "  (features): Sequential(\n",
            "    (0): Conv2d(3, 64, kernel_size=(3, 3), stride=(1, 1), padding=(1, 1))\n",
            "    (1): BatchNorm2d(64, eps=1e-05, momentum=0.1, affine=True, track_running_stats=True)\n",
            "    (2): ReLU(inplace=True)\n",
            "    (3): MaxPool2d(kernel_size=(2, 2), stride=(2, 2), padding=0, dilation=1, ceil_mode=False)\n",
            "    (4): Conv2d(64, 128, kernel_size=(3, 3), stride=(1, 1), padding=(1, 1))\n",
            "    (5): BatchNorm2d(128, eps=1e-05, momentum=0.1, affine=True, track_running_stats=True)\n",
            "    (6): ReLU(inplace=True)\n",
            "    (7): MaxPool2d(kernel_size=(2, 2), stride=(2, 2), padding=0, dilation=1, ceil_mode=False)\n",
            "    (8): Conv2d(128, 128, kernel_size=(3, 3), stride=(1, 1), padding=(1, 1))\n",
            "    (9): BatchNorm2d(128, eps=1e-05, momentum=0.1, affine=True, track_running_stats=True)\n",
            "    (10): ReLU(inplace=True)\n",
            "    (11): Conv2d(128, 128, kernel_size=(3, 3), stride=(1, 1), padding=(1, 1))\n",
            "    (12): BatchNorm2d(128, eps=1e-05, momentum=0.1, affine=True, track_running_stats=True)\n",
            "    (13): ReLU(inplace=True)\n",
            "    (14): MaxPool2d(kernel_size=(2, 2), stride=(2, 2), padding=0, dilation=1, ceil_mode=False)\n",
            "  )\n",
            "  (avgpool): AdaptiveAvgPool2d(output_size=(5, 5))\n",
            "  (classifier): Sequential(\n",
            "    (0): Linear(in_features=3200, out_features=512, bias=True)\n",
            "    (1): ReLU(inplace=True)\n",
            "    (2): Dropout(p=0.5, inplace=False)\n",
            "    (3): Linear(in_features=512, out_features=256, bias=True)\n",
            "    (4): ReLU(inplace=True)\n",
            "    (5): Dropout(p=0.5, inplace=False)\n",
            "    (6): Linear(in_features=256, out_features=100, bias=True)\n",
            "  )\n",
            ")\n",
            "Number of trainable parameters 2167652\n"
          ],
          "name": "stdout"
        }
      ]
    },
    {
      "cell_type": "code",
      "metadata": {
        "id": "mSAKSY96ZLZC"
      },
      "source": [
        "def make_optimizer(model):\r\n",
        "  '''Args:model: NN to trainReturns:optimizer: pytorch optmizer for updating the given model parameters.'''\r\n",
        "  #++++++++++++++++++++++++++++++++++++++++++++++#\r\n",
        "  #++++++++++++++++++++++++++++++++++++++++++++++#\r\n",
        "  # ============== YOUR CODE HERE ============== #\r\n",
        "  # Create a SGD optimizer with a learning rate 1e-2, momentum = 0.9\r\n",
        "  # HINT:\r\n",
        "  # We have imported torch.optim as optim for you\r\n",
        "  # Checkout optim.SGD() and initialize with appropriate parameters\r\n",
        "  params_to_update=model.parameters()\r\n",
        "  optimizer = optim.Adam(params_to_update, lr=1e-3, betas=(0.9, 0.999), eps=1e-08)\r\n",
        "  # optimizer=optim.SGD(params_to_update, lr=1e-1, momentum=0.9)\r\n",
        "  # ============== END OF CODE ================= #\r\n",
        "  #++++++++++++++++++++++++++++++++++++++++++++++#\r\n",
        "  #++++++++++++++++++++++++++++++++++++++++++++++#\r\n",
        "  return optimizer\r\n",
        "\r\n",
        "def get_loss():\r\n",
        "  criterion=nn.CrossEntropyLoss()\r\n",
        "  return criterion"
      ],
      "execution_count": null,
      "outputs": []
    },
    {
      "cell_type": "code",
      "metadata": {
        "id": "AYGmDsrzY4Ir"
      },
      "source": [
        "def train_model(model, dataloaders, criterion, optimizer, save_dir = None, num_epochs=25, model_name='MiniVGG'):\n",
        "    '''\n",
        "    Args:\n",
        "        model: The NN to train\n",
        "        dataloaders: A dictionary containing at least the keys \n",
        "                    'train','val' that maps to Pytorch data loaders for the dataset\n",
        "        criterion: The Loss function\n",
        "        optimizer: Pytroch optimizer. The algorithm to update weights \n",
        "        num_epochs: How many epochs to train for\n",
        "        save_dir: Where to save the best model weights that are found. Using None will not write anything to disk.\n",
        "\n",
        "    Returns:\n",
        "        model: The trained NN\n",
        "        tr_acc_history: list, training accuracy history. Recording freq: one epoch.\n",
        "        val_acc_history: list, validation accuracy history. Recording freq: one epoch.\n",
        "    '''\n",
        "\n",
        "    val_acc_history = []\n",
        "    tr_acc_history = []\n",
        "    \n",
        "    best_model_wts = copy.deepcopy(model.state_dict())\n",
        "    best_acc = 0.0\n",
        "\n",
        "    for epoch in range(num_epochs):\n",
        "        print('Epoch {}/{}'.format(epoch, num_epochs - 1))\n",
        "        print('-' * 10)\n",
        "\n",
        "        # Each epoch has a training and validation phase\n",
        "        for phase in ['train', 'val']:\n",
        "            if phase == 'train':\n",
        "                model.train()  # Set model to training mode\n",
        "            else:\n",
        "                model.eval()   # Set model to evaluate mode\n",
        "\n",
        "            # loss and number of correct prediction for the current batch\n",
        "            running_loss = 0.0\n",
        "            running_corrects = 0\n",
        "\n",
        "            # Iterate over data.\n",
        "            # TQDM has nice progress bars\n",
        "            for inputs, labels in tqdm(dataloaders[phase]):\n",
        "\n",
        "                inputs = inputs.to(device)\n",
        "                labels = labels.to(device)\n",
        "                \n",
        "                #++++++++++++++++++++++++++++++++++++++++++++++#\n",
        "                #++++++++++++++++++++++++++++++++++++++++++++++# \n",
        "                # ============== YOUR CODE HERE ============== #\n",
        "#def train_model(model, dataloaders, criterion, optimizer, save_dir = None, num_epochs=25, model_name='MiniVGG'):\n",
        "                optimizer.zero_grad()\n",
        "                \n",
        "                with torch.set_grad_enabled(phase=='train'):\n",
        "                  # Get model outputs and calculate loss\n",
        "                  outputs=model(inputs)\n",
        "                  loss=criterion(outputs, labels)\n",
        "                  # torch.max outputs the maximum value, and its index\n",
        "                  # Since the input is batched, we take the max along axis 1\n",
        "                  # (the meaningful outputs)\n",
        "                  _, preds=torch.max(outputs,1)\n",
        "                  # backprop + optimize only if in training phase\n",
        "                  if phase == 'train':\n",
        "                    loss.backward()\n",
        "                    optimizer.step()\n",
        "\n",
        "                # Please read all the inputs carefully!\n",
        "                # For \"train\" phase: \n",
        "                # (i)   Compute the outputs using model\n",
        "                #       Also, use outputs to calculate predicted class by model,\n",
        "                #       Store the predicted class in variable 'preds'\n",
        "                #       (Think argmax of outputs across a dimension)\n",
        "                #       torch.max() might help!\n",
        "                # (ii)  Calculate the loss using criterion. Store it as 'loss' \n",
        "                # (iii) Update the model parameters\n",
        "\n",
        "                # Don't forget to zero the gradients for each iteration!\n",
        "                \n",
        "                # For \"val\" phase, same as train but without backprop \n",
        "                # Compute the outputs (Same as \"train\", calculate 'preds' also), \n",
        "                # Calculate the loss, store it as 'loss'\n",
        "\n",
        "\n",
        "                # ============== END OF CODE ================= # \n",
        "                #++++++++++++++++++++++++++++++++++++++++++++++#\n",
        "                #++++++++++++++++++++++++++++++++++++++++++++++# \n",
        "\n",
        "                # statistics\n",
        "                running_loss += loss.item() * inputs.size(0)\n",
        "                running_corrects += torch.sum(preds == labels.data)\n",
        "\n",
        "            epoch_loss = running_loss / len(dataloaders[phase].dataset)\n",
        "            epoch_acc = running_corrects.double() / len(dataloaders[phase].dataset)\n",
        "\n",
        "            print('{} Loss: {:.4f} Acc: {:.4f}'.format(phase, epoch_loss, epoch_acc))\n",
        "\n",
        "            # deep copy the model\n",
        "            if phase == 'val' and epoch_acc > best_acc:\n",
        "                best_acc = epoch_acc\n",
        "                best_model_wts = copy.deepcopy(model.state_dict())\n",
        "\n",
        "                # save the best model weights\n",
        "                # ================================ IMPORTANT ===============================================\n",
        "                # Lossing connection to colab will lead to loss of trained weights.\n",
        "                # You can download the trained weights to your local machine. \n",
        "                # Later, you can load these weights directly without needing to train the neural networks again.\n",
        "                # ==========================================================================================\n",
        "                if save_dir:\n",
        "                    torch.save(best_model_wts, os.path.join(save_dir, model_name + '.pth'))\n",
        "\n",
        "            # record the train/val accuracies\n",
        "            if phase == 'val':\n",
        "                val_acc_history.append(epoch_acc)\n",
        "            else:\n",
        "                tr_acc_history.append(epoch_acc)\n",
        "                \n",
        "    print('Best val Acc: {:4f}'.format(best_acc))\n",
        "\n",
        "    return model, tr_acc_history, val_acc_history"
      ],
      "execution_count": null,
      "outputs": []
    },
    {
      "cell_type": "code",
      "metadata": {
        "id": "fqEGeODmZJtM"
      },
      "source": [
        "# Number of classes in the dataset\n",
        "# Miniplaces has 100\n",
        "num_classes = 2\n",
        "\n",
        "# Batch size for training \n",
        "batch_size = 32\n",
        "\n",
        "# Shuffle the input data?\n",
        "shuffle_datasets = True\n",
        "\n",
        "# Number of epochs to train for\n",
        "# During debugging, you can set this parameter to 1\n",
        "# num_epochs = 1\n",
        "# Training for 20 epochs. This will take about half an hour.\n",
        "num_epochs = 20\n",
        "\n",
        "### IO\n",
        "# Directory to save weights to\n",
        "save_dir = \"weights\"\n",
        "os.makedirs(save_dir, exist_ok=True)\n",
        "\n",
        "# get dataloders and criterion function\n",
        "input_size = 64 # do not change this\n",
        "dataloaders = get_dataloaders(input_size, batch_size, shuffle_datasets)\n",
        "criterion = get_loss()"
      ],
      "execution_count": null,
      "outputs": []
    },
    {
      "cell_type": "code",
      "metadata": {
        "colab": {
          "base_uri": "https://localhost:8080/"
        },
        "id": "YCnO1JytyDBY",
        "outputId": "6481fb78-474b-4245-94c1-eea0c711750f"
      },
      "source": [
        "# Initialize MiniVGG-BN\n",
        "features = make_layers(cfgs['MiniVGG-BN'], batch_norm=True)\n",
        "features2 = make_layers(cfgs['MiniVGG'], batch_norm=False)\n",
        "modelvgg = VGG(features2).to(device)\n",
        "model = VGG(features).to(device)\n",
        "model2 = meso4.to(device)\n",
        "model3 = meso4I.to(device)\n",
        "optimizervgg = make_optimizer(modelvgg)\n",
        "optimizer = make_optimizer(model)\n",
        "optimizer2 = make_optimizer(model2)\n",
        "optimizer3 = make_optimizer(model3)\n",
        "\n",
        "# vgg, tr_his, val_his = train_model(model=modelvgg, dataloaders=dataloaders, criterion=get_loss(), optimizer=optimizervgg,\n",
        "#            save_dir=save_dir, num_epochs=num_epochs, model_name='MiniVGG')\n",
        "\n",
        "# vgg_BN, tr_his_BN, val_his_BN = train_model(model=model, dataloaders=dataloaders, criterion=get_loss(), optimizer=optimizer,\n",
        "#            save_dir=save_dir, num_epochs=num_epochs, model_name='MiniVGG-BN')\n",
        "\n",
        "meso, tr_his_meso, val_his_meso = train_model(model=model2, dataloaders=dataloaders, criterion=get_loss(), optimizer=optimizer2,\n",
        "           save_dir=save_dir, num_epochs=num_epochs, model_name='Meso4')\n",
        "\n",
        "mesoI, tr_his_mesoI, val_his_mesoI = train_model(model=model3, dataloaders=dataloaders, criterion=get_loss(), optimizer=optimizer3,\n",
        "           save_dir=save_dir, num_epochs=num_epochs, model_name='Meso4I')"
      ],
      "execution_count": null,
      "outputs": [
        {
          "output_type": "stream",
          "text": [
            "\r  0%|          | 0/43 [00:00<?, ?it/s]"
          ],
          "name": "stderr"
        },
        {
          "output_type": "stream",
          "text": [
            "Epoch 0/19\n",
            "----------\n"
          ],
          "name": "stdout"
        },
        {
          "output_type": "stream",
          "text": [
            "100%|██████████| 43/43 [00:06<00:00,  6.76it/s]\n",
            "  0%|          | 0/85 [00:00<?, ?it/s]"
          ],
          "name": "stderr"
        },
        {
          "output_type": "stream",
          "text": [
            "train Loss: 0.7198 Acc: 0.5348\n"
          ],
          "name": "stdout"
        },
        {
          "output_type": "stream",
          "text": [
            "100%|██████████| 85/85 [00:11<00:00,  7.17it/s]\n",
            "  0%|          | 0/43 [00:00<?, ?it/s]"
          ],
          "name": "stderr"
        },
        {
          "output_type": "stream",
          "text": [
            "val Loss: 0.6900 Acc: 0.5192\n",
            "Epoch 1/19\n",
            "----------\n"
          ],
          "name": "stdout"
        },
        {
          "output_type": "stream",
          "text": [
            "100%|██████████| 43/43 [00:06<00:00,  6.74it/s]\n",
            "  0%|          | 0/85 [00:00<?, ?it/s]"
          ],
          "name": "stderr"
        },
        {
          "output_type": "stream",
          "text": [
            "train Loss: 0.6875 Acc: 0.5459\n"
          ],
          "name": "stdout"
        },
        {
          "output_type": "stream",
          "text": [
            "100%|██████████| 85/85 [00:11<00:00,  7.18it/s]\n",
            "  0%|          | 0/43 [00:00<?, ?it/s]"
          ],
          "name": "stderr"
        },
        {
          "output_type": "stream",
          "text": [
            "val Loss: 0.6809 Acc: 0.5540\n",
            "Epoch 2/19\n",
            "----------\n"
          ],
          "name": "stdout"
        },
        {
          "output_type": "stream",
          "text": [
            "100%|██████████| 43/43 [00:06<00:00,  6.72it/s]\n",
            "  0%|          | 0/85 [00:00<?, ?it/s]"
          ],
          "name": "stderr"
        },
        {
          "output_type": "stream",
          "text": [
            "train Loss: 0.6571 Acc: 0.6037\n"
          ],
          "name": "stdout"
        },
        {
          "output_type": "stream",
          "text": [
            "100%|██████████| 85/85 [00:12<00:00,  7.05it/s]\n",
            "  0%|          | 0/43 [00:00<?, ?it/s]"
          ],
          "name": "stderr"
        },
        {
          "output_type": "stream",
          "text": [
            "val Loss: 0.6637 Acc: 0.5888\n",
            "Epoch 3/19\n",
            "----------\n"
          ],
          "name": "stdout"
        },
        {
          "output_type": "stream",
          "text": [
            "100%|██████████| 43/43 [00:06<00:00,  6.53it/s]\n",
            "  0%|          | 0/85 [00:00<?, ?it/s]"
          ],
          "name": "stderr"
        },
        {
          "output_type": "stream",
          "text": [
            "train Loss: 0.5878 Acc: 0.6615\n"
          ],
          "name": "stdout"
        },
        {
          "output_type": "stream",
          "text": [
            "100%|██████████| 85/85 [00:12<00:00,  7.08it/s]\n",
            "  0%|          | 0/43 [00:00<?, ?it/s]"
          ],
          "name": "stderr"
        },
        {
          "output_type": "stream",
          "text": [
            "val Loss: 0.7477 Acc: 0.5000\n",
            "Epoch 4/19\n",
            "----------\n"
          ],
          "name": "stdout"
        },
        {
          "output_type": "stream",
          "text": [
            "100%|██████████| 43/43 [00:06<00:00,  6.41it/s]\n",
            "  0%|          | 0/85 [00:00<?, ?it/s]"
          ],
          "name": "stderr"
        },
        {
          "output_type": "stream",
          "text": [
            "train Loss: 0.5277 Acc: 0.7452\n"
          ],
          "name": "stdout"
        },
        {
          "output_type": "stream",
          "text": [
            "100%|██████████| 85/85 [00:11<00:00,  7.09it/s]\n",
            "  0%|          | 0/43 [00:00<?, ?it/s]"
          ],
          "name": "stderr"
        },
        {
          "output_type": "stream",
          "text": [
            "val Loss: 0.9989 Acc: 0.5329\n",
            "Epoch 5/19\n",
            "----------\n"
          ],
          "name": "stdout"
        },
        {
          "output_type": "stream",
          "text": [
            "100%|██████████| 43/43 [00:06<00:00,  6.60it/s]\n",
            "  0%|          | 0/85 [00:00<?, ?it/s]"
          ],
          "name": "stderr"
        },
        {
          "output_type": "stream",
          "text": [
            "train Loss: 0.4896 Acc: 0.7719\n"
          ],
          "name": "stdout"
        },
        {
          "output_type": "stream",
          "text": [
            "100%|██████████| 85/85 [00:11<00:00,  7.19it/s]\n",
            "  0%|          | 0/43 [00:00<?, ?it/s]"
          ],
          "name": "stderr"
        },
        {
          "output_type": "stream",
          "text": [
            "val Loss: 0.7678 Acc: 0.5477\n",
            "Epoch 6/19\n",
            "----------\n"
          ],
          "name": "stdout"
        },
        {
          "output_type": "stream",
          "text": [
            "100%|██████████| 43/43 [00:06<00:00,  6.65it/s]\n",
            "  0%|          | 0/85 [00:00<?, ?it/s]"
          ],
          "name": "stderr"
        },
        {
          "output_type": "stream",
          "text": [
            "train Loss: 0.4312 Acc: 0.8067\n"
          ],
          "name": "stdout"
        },
        {
          "output_type": "stream",
          "text": [
            "100%|██████████| 85/85 [00:11<00:00,  7.11it/s]\n",
            "  0%|          | 0/43 [00:00<?, ?it/s]"
          ],
          "name": "stderr"
        },
        {
          "output_type": "stream",
          "text": [
            "val Loss: 0.8146 Acc: 0.5688\n",
            "Epoch 7/19\n",
            "----------\n"
          ],
          "name": "stdout"
        },
        {
          "output_type": "stream",
          "text": [
            "100%|██████████| 43/43 [00:06<00:00,  6.52it/s]\n",
            "  0%|          | 0/85 [00:00<?, ?it/s]"
          ],
          "name": "stderr"
        },
        {
          "output_type": "stream",
          "text": [
            "train Loss: 0.4372 Acc: 0.7881\n"
          ],
          "name": "stdout"
        },
        {
          "output_type": "stream",
          "text": [
            "100%|██████████| 85/85 [00:12<00:00,  7.02it/s]\n",
            "  0%|          | 0/43 [00:00<?, ?it/s]"
          ],
          "name": "stderr"
        },
        {
          "output_type": "stream",
          "text": [
            "val Loss: 0.7763 Acc: 0.5640\n",
            "Epoch 8/19\n",
            "----------\n"
          ],
          "name": "stdout"
        },
        {
          "output_type": "stream",
          "text": [
            "100%|██████████| 43/43 [00:06<00:00,  6.56it/s]\n",
            "  0%|          | 0/85 [00:00<?, ?it/s]"
          ],
          "name": "stderr"
        },
        {
          "output_type": "stream",
          "text": [
            "train Loss: 0.3730 Acc: 0.8267\n"
          ],
          "name": "stdout"
        },
        {
          "output_type": "stream",
          "text": [
            "100%|██████████| 85/85 [00:11<00:00,  7.09it/s]\n",
            "  0%|          | 0/43 [00:00<?, ?it/s]"
          ],
          "name": "stderr"
        },
        {
          "output_type": "stream",
          "text": [
            "val Loss: 0.7076 Acc: 0.6436\n",
            "Epoch 9/19\n",
            "----------\n"
          ],
          "name": "stdout"
        },
        {
          "output_type": "stream",
          "text": [
            "100%|██████████| 43/43 [00:06<00:00,  6.53it/s]\n",
            "  0%|          | 0/85 [00:00<?, ?it/s]"
          ],
          "name": "stderr"
        },
        {
          "output_type": "stream",
          "text": [
            "train Loss: 0.3708 Acc: 0.8259\n"
          ],
          "name": "stdout"
        },
        {
          "output_type": "stream",
          "text": [
            "100%|██████████| 85/85 [00:11<00:00,  7.13it/s]\n",
            "  0%|          | 0/43 [00:00<?, ?it/s]"
          ],
          "name": "stderr"
        },
        {
          "output_type": "stream",
          "text": [
            "val Loss: 0.5580 Acc: 0.7184\n",
            "Epoch 10/19\n",
            "----------\n"
          ],
          "name": "stdout"
        },
        {
          "output_type": "stream",
          "text": [
            "100%|██████████| 43/43 [00:06<00:00,  6.55it/s]\n",
            "  0%|          | 0/85 [00:00<?, ?it/s]"
          ],
          "name": "stderr"
        },
        {
          "output_type": "stream",
          "text": [
            "train Loss: 0.3401 Acc: 0.8489\n"
          ],
          "name": "stdout"
        },
        {
          "output_type": "stream",
          "text": [
            "100%|██████████| 85/85 [00:11<00:00,  7.19it/s]\n",
            "  0%|          | 0/43 [00:00<?, ?it/s]"
          ],
          "name": "stderr"
        },
        {
          "output_type": "stream",
          "text": [
            "val Loss: 0.8218 Acc: 0.6051\n",
            "Epoch 11/19\n",
            "----------\n"
          ],
          "name": "stdout"
        },
        {
          "output_type": "stream",
          "text": [
            "100%|██████████| 43/43 [00:06<00:00,  6.77it/s]\n",
            "  0%|          | 0/85 [00:00<?, ?it/s]"
          ],
          "name": "stderr"
        },
        {
          "output_type": "stream",
          "text": [
            "train Loss: 0.3596 Acc: 0.8341\n"
          ],
          "name": "stdout"
        },
        {
          "output_type": "stream",
          "text": [
            "100%|██████████| 85/85 [00:12<00:00,  7.08it/s]\n",
            "  0%|          | 0/43 [00:00<?, ?it/s]"
          ],
          "name": "stderr"
        },
        {
          "output_type": "stream",
          "text": [
            "val Loss: 0.5601 Acc: 0.6965\n",
            "Epoch 12/19\n",
            "----------\n"
          ],
          "name": "stdout"
        },
        {
          "output_type": "stream",
          "text": [
            "100%|██████████| 43/43 [00:06<00:00,  6.73it/s]\n",
            "  0%|          | 0/85 [00:00<?, ?it/s]"
          ],
          "name": "stderr"
        },
        {
          "output_type": "stream",
          "text": [
            "train Loss: 0.3173 Acc: 0.8644\n"
          ],
          "name": "stdout"
        },
        {
          "output_type": "stream",
          "text": [
            "100%|██████████| 85/85 [00:11<00:00,  7.23it/s]\n",
            "  0%|          | 0/43 [00:00<?, ?it/s]"
          ],
          "name": "stderr"
        },
        {
          "output_type": "stream",
          "text": [
            "val Loss: 0.6826 Acc: 0.6136\n",
            "Epoch 13/19\n",
            "----------\n"
          ],
          "name": "stdout"
        },
        {
          "output_type": "stream",
          "text": [
            "100%|██████████| 43/43 [00:06<00:00,  6.76it/s]\n",
            "  0%|          | 0/85 [00:00<?, ?it/s]"
          ],
          "name": "stderr"
        },
        {
          "output_type": "stream",
          "text": [
            "train Loss: 0.2874 Acc: 0.8719\n"
          ],
          "name": "stdout"
        },
        {
          "output_type": "stream",
          "text": [
            "100%|██████████| 85/85 [00:11<00:00,  7.20it/s]\n",
            "  0%|          | 0/43 [00:00<?, ?it/s]"
          ],
          "name": "stderr"
        },
        {
          "output_type": "stream",
          "text": [
            "val Loss: 0.5147 Acc: 0.6776\n",
            "Epoch 14/19\n",
            "----------\n"
          ],
          "name": "stdout"
        },
        {
          "output_type": "stream",
          "text": [
            "100%|██████████| 43/43 [00:06<00:00,  6.77it/s]\n",
            "  0%|          | 0/85 [00:00<?, ?it/s]"
          ],
          "name": "stderr"
        },
        {
          "output_type": "stream",
          "text": [
            "train Loss: 0.2562 Acc: 0.8911\n"
          ],
          "name": "stdout"
        },
        {
          "output_type": "stream",
          "text": [
            "100%|██████████| 85/85 [00:11<00:00,  7.23it/s]\n",
            "  0%|          | 0/43 [00:00<?, ?it/s]"
          ],
          "name": "stderr"
        },
        {
          "output_type": "stream",
          "text": [
            "val Loss: 0.4308 Acc: 0.8294\n",
            "Epoch 15/19\n",
            "----------\n"
          ],
          "name": "stdout"
        },
        {
          "output_type": "stream",
          "text": [
            "100%|██████████| 43/43 [00:06<00:00,  6.76it/s]\n",
            "  0%|          | 0/85 [00:00<?, ?it/s]"
          ],
          "name": "stderr"
        },
        {
          "output_type": "stream",
          "text": [
            "train Loss: 0.2274 Acc: 0.8985\n"
          ],
          "name": "stdout"
        },
        {
          "output_type": "stream",
          "text": [
            "100%|██████████| 85/85 [00:11<00:00,  7.10it/s]\n",
            "  0%|          | 0/43 [00:00<?, ?it/s]"
          ],
          "name": "stderr"
        },
        {
          "output_type": "stream",
          "text": [
            "val Loss: 0.4874 Acc: 0.7465\n",
            "Epoch 16/19\n",
            "----------\n"
          ],
          "name": "stdout"
        },
        {
          "output_type": "stream",
          "text": [
            "100%|██████████| 43/43 [00:06<00:00,  6.65it/s]\n",
            "  0%|          | 0/85 [00:00<?, ?it/s]"
          ],
          "name": "stderr"
        },
        {
          "output_type": "stream",
          "text": [
            "train Loss: 0.2232 Acc: 0.9074\n"
          ],
          "name": "stdout"
        },
        {
          "output_type": "stream",
          "text": [
            "100%|██████████| 85/85 [00:11<00:00,  7.18it/s]\n",
            "  0%|          | 0/43 [00:00<?, ?it/s]"
          ],
          "name": "stderr"
        },
        {
          "output_type": "stream",
          "text": [
            "val Loss: 1.0505 Acc: 0.5563\n",
            "Epoch 17/19\n",
            "----------\n"
          ],
          "name": "stdout"
        },
        {
          "output_type": "stream",
          "text": [
            "100%|██████████| 43/43 [00:06<00:00,  6.68it/s]\n",
            "  0%|          | 0/85 [00:00<?, ?it/s]"
          ],
          "name": "stderr"
        },
        {
          "output_type": "stream",
          "text": [
            "train Loss: 0.2066 Acc: 0.9111\n"
          ],
          "name": "stdout"
        },
        {
          "output_type": "stream",
          "text": [
            "100%|██████████| 85/85 [00:11<00:00,  7.19it/s]\n",
            "  0%|          | 0/43 [00:00<?, ?it/s]"
          ],
          "name": "stderr"
        },
        {
          "output_type": "stream",
          "text": [
            "val Loss: 0.5970 Acc: 0.7117\n",
            "Epoch 18/19\n",
            "----------\n"
          ],
          "name": "stdout"
        },
        {
          "output_type": "stream",
          "text": [
            "100%|██████████| 43/43 [00:06<00:00,  6.63it/s]\n",
            "  0%|          | 0/85 [00:00<?, ?it/s]"
          ],
          "name": "stderr"
        },
        {
          "output_type": "stream",
          "text": [
            "train Loss: 0.1857 Acc: 0.9244\n"
          ],
          "name": "stdout"
        },
        {
          "output_type": "stream",
          "text": [
            "100%|██████████| 85/85 [00:11<00:00,  7.16it/s]\n",
            "  0%|          | 0/43 [00:00<?, ?it/s]"
          ],
          "name": "stderr"
        },
        {
          "output_type": "stream",
          "text": [
            "val Loss: 0.5040 Acc: 0.7246\n",
            "Epoch 19/19\n",
            "----------\n"
          ],
          "name": "stdout"
        },
        {
          "output_type": "stream",
          "text": [
            "100%|██████████| 43/43 [00:06<00:00,  6.73it/s]\n",
            "  0%|          | 0/85 [00:00<?, ?it/s]"
          ],
          "name": "stderr"
        },
        {
          "output_type": "stream",
          "text": [
            "train Loss: 0.1732 Acc: 0.9215\n"
          ],
          "name": "stdout"
        },
        {
          "output_type": "stream",
          "text": [
            "100%|██████████| 85/85 [00:11<00:00,  7.19it/s]\n",
            "  0%|          | 0/43 [00:00<?, ?it/s]"
          ],
          "name": "stderr"
        },
        {
          "output_type": "stream",
          "text": [
            "val Loss: 0.3965 Acc: 0.8164\n",
            "Best val Acc: 0.829386\n",
            "Epoch 0/19\n",
            "----------\n"
          ],
          "name": "stdout"
        },
        {
          "output_type": "stream",
          "text": [
            "100%|██████████| 43/43 [00:06<00:00,  6.27it/s]\n",
            "  0%|          | 0/85 [00:00<?, ?it/s]"
          ],
          "name": "stderr"
        },
        {
          "output_type": "stream",
          "text": [
            "train Loss: 0.7045 Acc: 0.5600\n"
          ],
          "name": "stdout"
        },
        {
          "output_type": "stream",
          "text": [
            "100%|██████████| 85/85 [00:12<00:00,  6.99it/s]\n",
            "  0%|          | 0/43 [00:00<?, ?it/s]"
          ],
          "name": "stderr"
        },
        {
          "output_type": "stream",
          "text": [
            "val Loss: 0.7192 Acc: 0.5196\n",
            "Epoch 1/19\n",
            "----------\n"
          ],
          "name": "stdout"
        },
        {
          "output_type": "stream",
          "text": [
            "100%|██████████| 43/43 [00:06<00:00,  6.32it/s]\n",
            "  0%|          | 0/85 [00:00<?, ?it/s]"
          ],
          "name": "stderr"
        },
        {
          "output_type": "stream",
          "text": [
            "train Loss: 0.6354 Acc: 0.6585\n"
          ],
          "name": "stdout"
        },
        {
          "output_type": "stream",
          "text": [
            "100%|██████████| 85/85 [00:12<00:00,  7.05it/s]\n",
            "  0%|          | 0/43 [00:00<?, ?it/s]"
          ],
          "name": "stderr"
        },
        {
          "output_type": "stream",
          "text": [
            "val Loss: 0.5764 Acc: 0.7169\n",
            "Epoch 2/19\n",
            "----------\n"
          ],
          "name": "stdout"
        },
        {
          "output_type": "stream",
          "text": [
            "100%|██████████| 43/43 [00:06<00:00,  6.22it/s]\n",
            "  0%|          | 0/85 [00:00<?, ?it/s]"
          ],
          "name": "stderr"
        },
        {
          "output_type": "stream",
          "text": [
            "train Loss: 0.5514 Acc: 0.7304\n"
          ],
          "name": "stdout"
        },
        {
          "output_type": "stream",
          "text": [
            "100%|██████████| 85/85 [00:12<00:00,  7.06it/s]\n",
            "  0%|          | 0/43 [00:00<?, ?it/s]"
          ],
          "name": "stderr"
        },
        {
          "output_type": "stream",
          "text": [
            "val Loss: 0.5169 Acc: 0.7309\n",
            "Epoch 3/19\n",
            "----------\n"
          ],
          "name": "stdout"
        },
        {
          "output_type": "stream",
          "text": [
            "100%|██████████| 43/43 [00:06<00:00,  6.31it/s]\n",
            "  0%|          | 0/85 [00:00<?, ?it/s]"
          ],
          "name": "stderr"
        },
        {
          "output_type": "stream",
          "text": [
            "train Loss: 0.4718 Acc: 0.7763\n"
          ],
          "name": "stdout"
        },
        {
          "output_type": "stream",
          "text": [
            "100%|██████████| 85/85 [00:12<00:00,  7.03it/s]\n",
            "  0%|          | 0/43 [00:00<?, ?it/s]"
          ],
          "name": "stderr"
        },
        {
          "output_type": "stream",
          "text": [
            "val Loss: 0.4369 Acc: 0.7976\n",
            "Epoch 4/19\n",
            "----------\n"
          ],
          "name": "stdout"
        },
        {
          "output_type": "stream",
          "text": [
            "100%|██████████| 43/43 [00:06<00:00,  6.21it/s]\n",
            "  0%|          | 0/85 [00:00<?, ?it/s]"
          ],
          "name": "stderr"
        },
        {
          "output_type": "stream",
          "text": [
            "train Loss: 0.4391 Acc: 0.8007\n"
          ],
          "name": "stdout"
        },
        {
          "output_type": "stream",
          "text": [
            "100%|██████████| 85/85 [00:12<00:00,  6.93it/s]\n",
            "  0%|          | 0/43 [00:00<?, ?it/s]"
          ],
          "name": "stderr"
        },
        {
          "output_type": "stream",
          "text": [
            "val Loss: 0.4369 Acc: 0.7972\n",
            "Epoch 5/19\n",
            "----------\n"
          ],
          "name": "stdout"
        },
        {
          "output_type": "stream",
          "text": [
            "100%|██████████| 43/43 [00:06<00:00,  6.28it/s]\n",
            "  0%|          | 0/85 [00:00<?, ?it/s]"
          ],
          "name": "stderr"
        },
        {
          "output_type": "stream",
          "text": [
            "train Loss: 0.3819 Acc: 0.8326\n"
          ],
          "name": "stdout"
        },
        {
          "output_type": "stream",
          "text": [
            "100%|██████████| 85/85 [00:11<00:00,  7.11it/s]\n",
            "  0%|          | 0/43 [00:00<?, ?it/s]"
          ],
          "name": "stderr"
        },
        {
          "output_type": "stream",
          "text": [
            "val Loss: 0.4701 Acc: 0.7717\n",
            "Epoch 6/19\n",
            "----------\n"
          ],
          "name": "stdout"
        },
        {
          "output_type": "stream",
          "text": [
            "100%|██████████| 43/43 [00:06<00:00,  6.35it/s]\n",
            "  0%|          | 0/85 [00:00<?, ?it/s]"
          ],
          "name": "stderr"
        },
        {
          "output_type": "stream",
          "text": [
            "train Loss: 0.3413 Acc: 0.8504\n"
          ],
          "name": "stdout"
        },
        {
          "output_type": "stream",
          "text": [
            "100%|██████████| 85/85 [00:12<00:00,  7.00it/s]\n",
            "  0%|          | 0/43 [00:00<?, ?it/s]"
          ],
          "name": "stderr"
        },
        {
          "output_type": "stream",
          "text": [
            "val Loss: 0.4593 Acc: 0.7865\n",
            "Epoch 7/19\n",
            "----------\n"
          ],
          "name": "stdout"
        },
        {
          "output_type": "stream",
          "text": [
            "100%|██████████| 43/43 [00:06<00:00,  6.25it/s]\n",
            "  0%|          | 0/85 [00:00<?, ?it/s]"
          ],
          "name": "stderr"
        },
        {
          "output_type": "stream",
          "text": [
            "train Loss: 0.2884 Acc: 0.8815\n"
          ],
          "name": "stdout"
        },
        {
          "output_type": "stream",
          "text": [
            "100%|██████████| 85/85 [00:12<00:00,  7.03it/s]\n",
            "  0%|          | 0/43 [00:00<?, ?it/s]"
          ],
          "name": "stderr"
        },
        {
          "output_type": "stream",
          "text": [
            "val Loss: 0.4504 Acc: 0.7927\n",
            "Epoch 8/19\n",
            "----------\n"
          ],
          "name": "stdout"
        },
        {
          "output_type": "stream",
          "text": [
            "100%|██████████| 43/43 [00:06<00:00,  6.22it/s]\n",
            "  0%|          | 0/85 [00:00<?, ?it/s]"
          ],
          "name": "stderr"
        },
        {
          "output_type": "stream",
          "text": [
            "train Loss: 0.2286 Acc: 0.8985\n"
          ],
          "name": "stdout"
        },
        {
          "output_type": "stream",
          "text": [
            "100%|██████████| 85/85 [00:12<00:00,  7.00it/s]\n",
            "  0%|          | 0/43 [00:00<?, ?it/s]"
          ],
          "name": "stderr"
        },
        {
          "output_type": "stream",
          "text": [
            "val Loss: 0.4874 Acc: 0.7798\n",
            "Epoch 9/19\n",
            "----------\n"
          ],
          "name": "stdout"
        },
        {
          "output_type": "stream",
          "text": [
            "100%|██████████| 43/43 [00:06<00:00,  6.28it/s]\n",
            "  0%|          | 0/85 [00:00<?, ?it/s]"
          ],
          "name": "stderr"
        },
        {
          "output_type": "stream",
          "text": [
            "train Loss: 0.1477 Acc: 0.9407\n"
          ],
          "name": "stdout"
        },
        {
          "output_type": "stream",
          "text": [
            "100%|██████████| 85/85 [00:12<00:00,  7.03it/s]\n",
            "  0%|          | 0/43 [00:00<?, ?it/s]"
          ],
          "name": "stderr"
        },
        {
          "output_type": "stream",
          "text": [
            "val Loss: 1.1336 Acc: 0.6643\n",
            "Epoch 10/19\n",
            "----------\n"
          ],
          "name": "stdout"
        },
        {
          "output_type": "stream",
          "text": [
            "100%|██████████| 43/43 [00:06<00:00,  6.27it/s]\n",
            "  0%|          | 0/85 [00:00<?, ?it/s]"
          ],
          "name": "stderr"
        },
        {
          "output_type": "stream",
          "text": [
            "train Loss: 0.2546 Acc: 0.9059\n"
          ],
          "name": "stdout"
        },
        {
          "output_type": "stream",
          "text": [
            "100%|██████████| 85/85 [00:12<00:00,  7.06it/s]\n",
            "  0%|          | 0/43 [00:00<?, ?it/s]"
          ],
          "name": "stderr"
        },
        {
          "output_type": "stream",
          "text": [
            "val Loss: 0.5846 Acc: 0.7539\n",
            "Epoch 11/19\n",
            "----------\n"
          ],
          "name": "stdout"
        },
        {
          "output_type": "stream",
          "text": [
            "100%|██████████| 43/43 [00:06<00:00,  6.22it/s]\n",
            "  0%|          | 0/85 [00:00<?, ?it/s]"
          ],
          "name": "stderr"
        },
        {
          "output_type": "stream",
          "text": [
            "train Loss: 0.1516 Acc: 0.9363\n"
          ],
          "name": "stdout"
        },
        {
          "output_type": "stream",
          "text": [
            "100%|██████████| 85/85 [00:12<00:00,  7.06it/s]\n",
            "  0%|          | 0/43 [00:00<?, ?it/s]"
          ],
          "name": "stderr"
        },
        {
          "output_type": "stream",
          "text": [
            "val Loss: 0.9312 Acc: 0.6514\n",
            "Epoch 12/19\n",
            "----------\n"
          ],
          "name": "stdout"
        },
        {
          "output_type": "stream",
          "text": [
            "100%|██████████| 43/43 [00:06<00:00,  6.20it/s]\n",
            "  0%|          | 0/85 [00:00<?, ?it/s]"
          ],
          "name": "stderr"
        },
        {
          "output_type": "stream",
          "text": [
            "train Loss: 0.1435 Acc: 0.9341\n"
          ],
          "name": "stdout"
        },
        {
          "output_type": "stream",
          "text": [
            "100%|██████████| 85/85 [00:12<00:00,  6.97it/s]\n",
            "  0%|          | 0/43 [00:00<?, ?it/s]"
          ],
          "name": "stderr"
        },
        {
          "output_type": "stream",
          "text": [
            "val Loss: 1.7260 Acc: 0.5699\n",
            "Epoch 13/19\n",
            "----------\n"
          ],
          "name": "stdout"
        },
        {
          "output_type": "stream",
          "text": [
            "100%|██████████| 43/43 [00:06<00:00,  6.15it/s]\n",
            "  0%|          | 0/85 [00:00<?, ?it/s]"
          ],
          "name": "stderr"
        },
        {
          "output_type": "stream",
          "text": [
            "train Loss: 0.1439 Acc: 0.9363\n"
          ],
          "name": "stdout"
        },
        {
          "output_type": "stream",
          "text": [
            "100%|██████████| 85/85 [00:12<00:00,  7.08it/s]\n",
            "  0%|          | 0/43 [00:00<?, ?it/s]"
          ],
          "name": "stderr"
        },
        {
          "output_type": "stream",
          "text": [
            "val Loss: 0.5122 Acc: 0.8253\n",
            "Epoch 14/19\n",
            "----------\n"
          ],
          "name": "stdout"
        },
        {
          "output_type": "stream",
          "text": [
            "100%|██████████| 43/43 [00:06<00:00,  6.30it/s]\n",
            "  0%|          | 0/85 [00:00<?, ?it/s]"
          ],
          "name": "stderr"
        },
        {
          "output_type": "stream",
          "text": [
            "train Loss: 0.1556 Acc: 0.9452\n"
          ],
          "name": "stdout"
        },
        {
          "output_type": "stream",
          "text": [
            "100%|██████████| 85/85 [00:11<00:00,  7.11it/s]\n",
            "  0%|          | 0/43 [00:00<?, ?it/s]"
          ],
          "name": "stderr"
        },
        {
          "output_type": "stream",
          "text": [
            "val Loss: 1.0620 Acc: 0.6799\n",
            "Epoch 15/19\n",
            "----------\n"
          ],
          "name": "stdout"
        },
        {
          "output_type": "stream",
          "text": [
            "100%|██████████| 43/43 [00:06<00:00,  6.35it/s]\n",
            "  0%|          | 0/85 [00:00<?, ?it/s]"
          ],
          "name": "stderr"
        },
        {
          "output_type": "stream",
          "text": [
            "train Loss: 0.1274 Acc: 0.9533\n"
          ],
          "name": "stdout"
        },
        {
          "output_type": "stream",
          "text": [
            "100%|██████████| 85/85 [00:12<00:00,  7.00it/s]\n",
            "  0%|          | 0/43 [00:00<?, ?it/s]"
          ],
          "name": "stderr"
        },
        {
          "output_type": "stream",
          "text": [
            "val Loss: 1.7517 Acc: 0.6021\n",
            "Epoch 16/19\n",
            "----------\n"
          ],
          "name": "stdout"
        },
        {
          "output_type": "stream",
          "text": [
            "100%|██████████| 43/43 [00:06<00:00,  6.36it/s]\n",
            "  0%|          | 0/85 [00:00<?, ?it/s]"
          ],
          "name": "stderr"
        },
        {
          "output_type": "stream",
          "text": [
            "train Loss: 0.0943 Acc: 0.9607\n"
          ],
          "name": "stdout"
        },
        {
          "output_type": "stream",
          "text": [
            "100%|██████████| 85/85 [00:12<00:00,  6.98it/s]\n",
            "  0%|          | 0/43 [00:00<?, ?it/s]"
          ],
          "name": "stderr"
        },
        {
          "output_type": "stream",
          "text": [
            "val Loss: 2.3354 Acc: 0.5555\n",
            "Epoch 17/19\n",
            "----------\n"
          ],
          "name": "stdout"
        },
        {
          "output_type": "stream",
          "text": [
            "100%|██████████| 43/43 [00:06<00:00,  6.22it/s]\n",
            "  0%|          | 0/85 [00:00<?, ?it/s]"
          ],
          "name": "stderr"
        },
        {
          "output_type": "stream",
          "text": [
            "train Loss: 0.0771 Acc: 0.9681\n"
          ],
          "name": "stdout"
        },
        {
          "output_type": "stream",
          "text": [
            "100%|██████████| 85/85 [00:12<00:00,  7.04it/s]\n",
            "  0%|          | 0/43 [00:00<?, ?it/s]"
          ],
          "name": "stderr"
        },
        {
          "output_type": "stream",
          "text": [
            "val Loss: 1.4887 Acc: 0.6543\n",
            "Epoch 18/19\n",
            "----------\n"
          ],
          "name": "stdout"
        },
        {
          "output_type": "stream",
          "text": [
            "100%|██████████| 43/43 [00:06<00:00,  6.32it/s]\n",
            "  0%|          | 0/85 [00:00<?, ?it/s]"
          ],
          "name": "stderr"
        },
        {
          "output_type": "stream",
          "text": [
            "train Loss: 0.0946 Acc: 0.9622\n"
          ],
          "name": "stdout"
        },
        {
          "output_type": "stream",
          "text": [
            "100%|██████████| 85/85 [00:12<00:00,  7.06it/s]\n",
            "  0%|          | 0/43 [00:00<?, ?it/s]"
          ],
          "name": "stderr"
        },
        {
          "output_type": "stream",
          "text": [
            "val Loss: 1.8759 Acc: 0.6229\n",
            "Epoch 19/19\n",
            "----------\n"
          ],
          "name": "stdout"
        },
        {
          "output_type": "stream",
          "text": [
            "100%|██████████| 43/43 [00:06<00:00,  6.28it/s]\n",
            "  0%|          | 0/85 [00:00<?, ?it/s]"
          ],
          "name": "stderr"
        },
        {
          "output_type": "stream",
          "text": [
            "train Loss: 0.0940 Acc: 0.9637\n"
          ],
          "name": "stdout"
        },
        {
          "output_type": "stream",
          "text": [
            "100%|██████████| 85/85 [00:12<00:00,  7.06it/s]"
          ],
          "name": "stderr"
        },
        {
          "output_type": "stream",
          "text": [
            "val Loss: 3.2046 Acc: 0.5292\n",
            "Best val Acc: 0.825315\n"
          ],
          "name": "stdout"
        },
        {
          "output_type": "stream",
          "text": [
            "\n"
          ],
          "name": "stderr"
        }
      ]
    },
    {
      "cell_type": "code",
      "metadata": {
        "colab": {
          "base_uri": "https://localhost:8080/",
          "height": 573
        },
        "id": "yFW-kIwfblUe",
        "outputId": "2c6c6954-3ad6-41c9-ff72-c28433dd2847"
      },
      "source": [
        "# visualize the training / validation accuracies\n",
        "\n",
        "x = np.arange(num_epochs)\n",
        "\n",
        "\n",
        "# plt.plot(x, tr_his)\n",
        "# plt.plot(x, val_his)\n",
        "# plt.legend(['Training top1 accuracy', 'Validation top1 accuracy'])\n",
        "# plt.xticks(x)\n",
        "# plt.xlabel('Epoch')\n",
        "# plt.ylabel('Top1 Accuracy')\n",
        "# plt.title('VGG')\n",
        "# plt.show()\n",
        "\n",
        "# plt.plot(x, tr_his_BN)\n",
        "# plt.plot(x, val_his_BN)\n",
        "# plt.legend(['Training top1 accuracy', 'Validation top1 accuracy'])\n",
        "# plt.xticks(x)\n",
        "# plt.xlabel('Epoch')\n",
        "# plt.ylabel('Top1 Accuracy')\n",
        "# plt.title('MiniVGG-BN')\n",
        "# plt.show()\n",
        "\n",
        "# train/val accuracies for MiniVGG-BN\n",
        "plt.plot(x, tr_his_meso)\n",
        "plt.plot(x, val_his_meso)\n",
        "plt.legend(['Training top1 accuracy', 'Validation top1 accuracy'])\n",
        "plt.xticks(x)\n",
        "plt.xlabel('Epoch')\n",
        "plt.ylabel('Top1 Accuracy')\n",
        "plt.title('Meso4')\n",
        "plt.show()\n",
        "\n",
        "plt.plot(x, tr_his_mesoI)\n",
        "plt.plot(x, val_his_mesoI)\n",
        "plt.legend(['Training top1 accuracy', 'Validation top1 accuracy'])\n",
        "plt.xticks(x)\n",
        "plt.xlabel('Epoch')\n",
        "plt.ylabel('Top1 Accuracy')\n",
        "plt.title('Meso4I')\n",
        "plt.show()\n"
      ],
      "execution_count": null,
      "outputs": [
        {
          "output_type": "display_data",
          "data": {
            "image/png": "[encoded data removed]",
            "text/plain": [
              "<Figure size 432x288 with 1 Axes>"
            ]
          },
          "metadata": {
            "tags": [],
            "needs_background": "light"
          }
        },
        {
          "output_type": "display_data",
          "data": {
            "image/png": "[encoded data removed]",
            "text/plain": [
              "<Figure size 432x288 with 1 Axes>"
            ]
          },
          "metadata": {
            "tags": [],
            "needs_background": "light"
          }
        }
      ]
    },
    {
      "cell_type": "code",
      "metadata": {
        "id": "5ZdFjScPblUg"
      },
      "source": [
        "def test(model, dataloader):\n",
        "    correct = 0\n",
        "    total = 0\n",
        "    with torch.no_grad():\n",
        "        for data in dataloader:\n",
        "            images, labels = data[0].to(device), data[1].to(device)\n",
        "            outputs = model(images)\n",
        "            _, predicted = torch.max(outputs.data, 1)\n",
        "            total += labels.size(0)\n",
        "            correct += (predicted == labels).sum().item()\n",
        "\n",
        "    print('Accuracy of the network on test images: %d %%' % (\n",
        "        100 * correct / total))"
      ],
      "execution_count": null,
      "outputs": []
    },
    {
      "cell_type": "code",
      "metadata": {
        "colab": {
          "base_uri": "https://localhost:8080/"
        },
        "id": "W4V_qjYFCLHV",
        "outputId": "092a062c-608a-4804-a332-ca49a9f4757e"
      },
      "source": [
        "##### To pass the test, both networks should have Top-5 accuracy above 55% #####\n",
        "# uncomment these two lines to load pretrained weights\n",
        "# vgg_BN.load_state_dict(torch.load('./weights/MiniVGG-BN.pth'))\n",
        "# # print(vgg_BN.eval()) \n",
        "print(\"vgg\")\n",
        "test(vgg, dataloaders['test'])\n",
        "print(\"vgg-bn\")\n",
        "test(vgg_BN, dataloaders['test'])\n",
        "print(\"meso\")\n",
        "test(meso, dataloaders['test'])\n",
        "print(\"meso-I\")\n",
        "test(mesoI, dataloaders['test'])\n",
        "\n"
      ],
      "execution_count": null,
      "outputs": [
        {
          "output_type": "stream",
          "text": [
            "vgg\n",
            "Accuracy of the network on test images: 67 %\n",
            "vgg-bn\n",
            "Accuracy of the network on test images: 82 %\n",
            "meso\n",
            "Accuracy of the network on test images: 80 %\n",
            "meso-I\n",
            "Accuracy of the network on test images: 54 %\n"
          ],
          "name": "stdout"
        }
      ]
    }
  ]
}